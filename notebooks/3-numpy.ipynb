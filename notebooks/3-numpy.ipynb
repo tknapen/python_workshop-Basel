{
 "cells": [
  {
   "cell_type": "markdown",
   "metadata": {},
   "source": [
    "## 3. Numpy\n",
    "This notebook is about Numpy, Python's core library for numeric computing. While the syntax of basic Python (as we've gone over in the previous section) is important to do data analysis in Python, knowing numpy is **essential**. Basicially, Numpy is the go-to package whenever you want to do (anything related to) data analysis in Python. Make sure you understand what is going on in this section, as the rest of the course will feature a lot of Numpy-code!\n",
    "\n",
    "The most important feature of Numpy is it's core data structure: the numpy *ndarray* (which stands for *n*-dimensional array, referring to the fact that the array may be of any dimension: 1D, 2D, 3D, 180D ... *n*D). This is, just like basic lists/dictionaries/integers/tuples, a data structure (or class of object) with its own syntax, operations, and methods, as we will explain below."
   ]
  },
  {
   "cell_type": "code",
   "execution_count": 1,
   "metadata": {},
   "outputs": [],
   "source": [
    "# first, we import numpy\n",
    "import numpy as np\n",
    "# notice how we're importing numpy *as np. *\n",
    "# Remember, this is a common convention in Python, and it's used to save typing.\n",
    "\n",
    "# the following defines a class we use for testing later on.\n",
    "class IncorrectAnswer(Exception):\n",
    "\n",
    "    def __init__(self, answer, expected):\n",
    "        message = \"Your answer '%r' is incorrect; I expected '%r'\" % (answer, expected)\n",
    "        super().__init__(message)"
   ]
  },
  {
   "cell_type": "markdown",
   "metadata": {},
   "source": [
    "### Python lists vs. numpy arrays\n",
    "Basically, numpy arrays are a lot like Python lists. The major difference, however, is that **numpy arrays may contain only a single data-type**, while Python lists may contain different data-types within the same list.\n",
    "\n",
    "Let check this out:"
   ]
  },
  {
   "cell_type": "code",
   "execution_count": 2,
   "metadata": {},
   "outputs": [
    {
     "name": "stdout",
     "output_type": "stream",
     "text": [
      "1 is a: <class 'int'>\n",
      "2.5 is a: <class 'float'>\n",
      "whatever is a: <class 'str'>\n",
      "[3, 4, 5] is a: <class 'list'>\n"
     ]
    }
   ],
   "source": [
    "# Python lists may contain mixed data-types: an integer, a float, a string, a list\n",
    "python_list = [1, 2.5, \"whatever\", [3, 4, 5]]\n",
    "\n",
    "for value in python_list:\n",
    "    print(\"%s is a: %s\" % (str(value), type(value)))"
   ]
  },
  {
   "cell_type": "markdown",
   "metadata": {},
   "source": [
    "Unlike Python lists, numpy only allows entries of the same data-type. This difference between Python lists and numpy arrays is basically the same as R lists (allow multiple data-types) versus R matrices/arrays (only allow one data type), and is also the same as MATLAB cells (allow multiple data-types) versus MATLAB matrices (only allow one data type).\n",
    "\n",
    "In fact, if you try to make a numpy array with different data-types, numpy will force the entries into the same data-type (in a smart way), as is shown in the example below:"
   ]
  },
  {
   "cell_type": "code",
   "execution_count": 3,
   "metadata": {},
   "outputs": [
    {
     "name": "stdout",
     "output_type": "stream",
     "text": [
      "1.0\n",
      "this is a: <class 'numpy.float64'> \n",
      "\n",
      "2.0\n",
      "this is a: <class 'numpy.float64'> \n",
      "\n",
      "3.5\n",
      "this is a: <class 'numpy.float64'> \n",
      "\n"
     ]
    }
   ],
   "source": [
    "# Importantly, you often specify your arrays as Python lists first, and then convert them to numpy\n",
    "to_convert_to_numpy = [1, 2, 3.5]               # specify python list ...\n",
    "numpy_array = np.array(to_convert_to_numpy)     # ... and convert ('cast') it to numpy\n",
    "\n",
    "for entry in numpy_array:\n",
    "\n",
    "    print(entry)\n",
    "    print('this is a: %s \\n' % type(entry))"
   ]
  },
  {
   "cell_type": "markdown",
   "metadata": {},
   "source": [
    "As you can see, Numpy converted our original list (`to_convert_to_numpy`), which contained both integers and floats, to an array with only floats! You might think that such a data structure that only allows one single data type is not ideal. However, the very fact that it only contains a single data-type makes operations on numpy arrays extremely fast. For example, loops over numpy arrays are often way faster than loops over python lists. This is because, internally, Python has to check the data-type of each loop entry before doing something with that entry. Because numpy arrays one allow a single data-type, it only has to check for the entries' data type **once**. If you imagine looping over an array or list of length 100,000, you probably understand that the numpy loop is way faster.\n",
    "\n",
    "Let's check out the speed difference between Python list operations and numpy array operations:"
   ]
  },
  {
   "cell_type": "code",
   "execution_count": 4,
   "metadata": {},
   "outputs": [
    {
     "name": "stdout",
     "output_type": "stream",
     "text": [
      "2.14 ms ± 63.4 µs per loop (mean ± std. dev. of 7 runs, 100 loops each)\n"
     ]
    }
   ],
   "source": [
    "# timeit is a cool 'feature' that you can use in Notebooks (no need to understand how it works)\n",
    "# it basically performs a computation that you specify a couple of times and prints how long it took on average\n",
    "results_python = %timeit -o [x * 2 for x in range(0, 100000)]"
   ]
  },
  {
   "cell_type": "markdown",
   "metadata": {},
   "source": [
    "And now let's do the same with numpy:"
   ]
  },
  {
   "cell_type": "code",
   "execution_count": 5,
   "metadata": {},
   "outputs": [
    {
     "name": "stdout",
     "output_type": "stream",
     "text": [
      "7.09 µs ± 115 ns per loop (mean ± std. dev. of 7 runs, 100,000 loops each)\n",
      "Numpy is 301 times faster than Python!\n"
     ]
    }
   ],
   "source": [
    "results_numpy = %timeit -o np.arange(0, 10000) * 2\n",
    "\n",
    "ratio = results_python.average / results_numpy.average\n",
    "print(\"Numpy is %i times faster than Python!\" % ratio)"
   ]
  },
  {
   "cell_type": "markdown",
   "metadata": {},
   "source": [
    "You see that Numpy can be orders of magnitude faster! This really matters when you start doing more complex operations, on, let's say, multidimensional brain images!"
   ]
  },
  {
   "cell_type": "markdown",
   "metadata": {},
   "source": [
    "### Numpy arrays: creation\n",
    "As shown an earlier example, numpy arrays can be created as follows:\n",
    "\n",
    "1. Define a Python list (e.g. `my_list = [0, 1, 2]`) \n",
    "2. Convert the list to a numpy array (`numpy_array = np.array(my_list)`)\n",
    "\n",
    "Importantly, a simple Python list will be converted to a 1D numpy array, but a nested Python list will be converted to a 2D (or even higher-dimensional array). Nesting is simply combining different lists, separated by commas, as is shown here:"
   ]
  },
  {
   "cell_type": "code",
   "execution_count": null,
   "metadata": {},
   "outputs": [],
   "source": [
    "my_list = [1, 2, 3]\n",
    "my_array = np.array(my_list)\n",
    "\n",
    "print(\"A 1D (or 'flat') array:\")\n",
    "print(my_array, '\\n')\n",
    "\n",
    "my_nested_list = [[1, 2, 3],\n",
    "                  [4, 5, 6],\n",
    "                  [7, 8, 9]]\n",
    "\n",
    "my_2D_array = np.array(my_nested_list)\n",
    "print(\"A 2D array:\")\n",
    "print(my_2D_array)"
   ]
  },
  {
   "cell_type": "markdown",
   "metadata": {},
   "source": [
    "As you can imagine, creating numpy arrays from nested lists becomes cumbersome if you want to create (large) arrays with more than 2 dimensions. There are, fortunately, a lot of other ways to create ('initialize') large, high-dimensional numpy arrays. One often-used method is to create an array with zeros using the numpy function `np.zeros`. This function takes one (mandatory) argument, which is a tuple with the dimensions of your desired array:"
   ]
  },
  {
   "cell_type": "code",
   "execution_count": null,
   "metadata": {},
   "outputs": [],
   "source": [
    "my_desired_dimensions = (2, 5) # suppose I want to create a matrix with zeros of size 2 by 5\n",
    "my_array = np.zeros(my_desired_dimensions)\n",
    "\n",
    "print(my_array)"
   ]
  },
  {
   "cell_type": "markdown",
   "metadata": {},
   "source": [
    "<div class='alert alert-warning'>\n",
    "<b>ToDo</b> (1 point)\n",
    "</div>"
   ]
  },
  {
   "cell_type": "markdown",
   "metadata": {},
   "source": [
    "using the `np.zeros` function, create a five dimensional array of shape $$2 \\times 3 \\times 5 \\times 3 \\times 7$$ and store it in a variable named `array_5d`."
   ]
  },
  {
   "cell_type": "code",
   "execution_count": null,
   "metadata": {},
   "outputs": [],
   "source": [
    "# Implement your ToDo here\n",
    "\n",
    "# your solution here\n"
   ]
  },
  {
   "cell_type": "code",
   "execution_count": null,
   "metadata": {},
   "outputs": [],
   "source": [
    "''' Tests the above ToDo. '''\n",
    "available_vars = dir()\n",
    "if 'array_5d' not in available_vars:\n",
    "    raise ValueError(\"You didn't define the variable 'array_5d'!\")\n",
    "\n",
    "def test_create_array_with_zeros(arr):\n",
    "\n",
    "    c_answer = np.zeros((2, 3, 5, 3, 7))\n",
    "    try:\n",
    "        assert(np.all(arr.shape == c_answer.shape))\n",
    "    except AssertionError as e:\n",
    "        print(\"Your array has the wrong shape, namely %r, but I expected %r\" % (arr.shape, c_answer.shape,))\n",
    "        raise(e)\n",
    "\n",
    "    try:\n",
    "        assert(np.all(arr == 0.0))\n",
    "    except AssertionError as e:\n",
    "        print(\"Your array does not contain zeros ... Did you use np.zeros()?\")\n",
    "        raise(e)\n",
    "\n",
    "    print(\"Well done!\")\n",
    "\n",
    "test_create_array_with_zeros(array_5d)"
   ]
  },
  {
   "cell_type": "markdown",
   "metadata": {},
   "source": [
    "Using arrays with zeros is often used in what is called 'pre-allocation', in which you create an 'empty' array with only zeros and for example, 'fill' that array in a loop.\n",
    "\n",
    "Below, we show you an example in which we pre-allocate an array with 5 zeros, and fill that in a for-loop with the squares of 1 - 5. Try to understand how it works! (You have to do something similar in the next ToDo!)"
   ]
  },
  {
   "cell_type": "code",
   "execution_count": null,
   "metadata": {},
   "outputs": [],
   "source": [
    "my_array = np.zeros(5)\n",
    "\n",
    "print('Original zeros-array')\n",
    "print(my_array)\n",
    "\n",
    "for i in range(5):  # notice the range function here! This loop now iterates over [0, 1, 2, 3, 4]\n",
    "    number_to_calculate_the_square_of = i + 1\n",
    "    my_array[i] = number_to_calculate_the_square_of ** 2\n",
    "\n",
    "print('\\nFilled array')\n",
    "print(my_array)"
   ]
  },
  {
   "cell_type": "markdown",
   "metadata": {},
   "source": [
    "**Important**: realize that loops (not shown above), if-statements and other boolean logic is the same for numpy and python!"
   ]
  },
  {
   "cell_type": "markdown",
   "metadata": {},
   "source": [
    "<div class='alert alert-warning'>\n",
    "<b>ToDo</b> (2 points)\n",
    "</div>\n",
    "Write a loop in which you fill each value in the variable `my_array2` with the value 1 divided by the current index plus one. So, suppose the index (usually `i`, like the last example) is 3, then you should fill `my_array2` at index `i` with `1 / (3 + 1)`."
   ]
  },
  {
   "cell_type": "code",
   "execution_count": null,
   "metadata": {},
   "outputs": [],
   "source": [
    "import numpy as np\n",
    "my_array2 = np.zeros(8)\n",
    "\n",
    "# your solution here\n"
   ]
  },
  {
   "cell_type": "code",
   "execution_count": null,
   "metadata": {},
   "outputs": [],
   "source": [
    "''' Tests the above ToDo. '''\n",
    "available_vars = dir()\n",
    "if 'my_array2' not in available_vars:\n",
    "    raise ValueError(\"The variable my_array2 does not exist!\")\n",
    "\n",
    "def test_fill_array_with_complement(arr):\n",
    "\n",
    "    c_answer = 1.0 / np.arange(1, 9)\n",
    "    try:\n",
    "        np.testing.assert_array_almost_equal(arr, c_answer, 4)\n",
    "    except AssertionError as e:\n",
    "        print(\"Your array (%r) does not match the correct answer (%r)!\" % (arr, c_answer))\n",
    "        raise(e)\n",
    "    else:\n",
    "        print(\"Well done!\")\n",
    "\n",
    "test_fill_array_with_complement(my_array2)"
   ]
  },
  {
   "cell_type": "markdown",
   "metadata": {},
   "source": [
    "In addition to `np.zeros`, you can create numpy arrays using other functions, like `np.ones` and `random` from the `np.random` module:"
   ]
  },
  {
   "cell_type": "code",
   "execution_count": null,
   "metadata": {},
   "outputs": [],
   "source": [
    "ones = np.ones((5, 10)) # create an array with ones\n",
    "print(ones, '\\n')\n",
    "\n",
    "rndom = np.random.random((5, 10)) # Create an array filled with random values (0 - 1 uniform)\n",
    "print(rndom)"
   ]
  },
  {
   "cell_type": "markdown",
   "metadata": {},
   "source": [
    "### Numpy: indexing\n",
    "Indexing (extracting a single value of an array) and slicing (extracting multiple values - a subset - from an array) of numpy arrays is largely the same as with regular Python lists and data structures from other scientific computing languages such as R and MATLAB. Let's check out a couple of examples of a 1D array:"
   ]
  },
  {
   "cell_type": "code",
   "execution_count": null,
   "metadata": {},
   "outputs": [],
   "source": [
    "my_array = np.arange(10, 21)  # numpy equivalent of list(range(10, 21))\n",
    "print('Full array:')\n",
    "print(my_array, '\\n')\n",
    "\n",
    "print(\"Index the first element:\")\n",
    "print(my_array[0], '\\n')\n",
    "\n",
    "print(\"Index the second-to-last element:\")\n",
    "print(my_array[-2], '\\n')\n",
    "\n",
    "print(\"Slice from 5 until (not including!) 8\")\n",
    "print(my_array[5:8], '\\n')\n",
    "\n",
    "print(\"Slice from beginning until 4\")\n",
    "print(my_array[:4])"
   ]
  },
  {
   "cell_type": "markdown",
   "metadata": {},
   "source": [
    "Setting values in numpy arrays works the same way as lists:"
   ]
  },
  {
   "cell_type": "code",
   "execution_count": null,
   "metadata": {},
   "outputs": [],
   "source": [
    "my_array = np.arange(10, 21)\n",
    "my_array[0] = 10000\n",
    "print(my_array)\n",
    "\n",
    "my_array[5:7] = 0\n",
    "print(my_array)"
   ]
  },
  {
   "cell_type": "markdown",
   "metadata": {},
   "source": [
    "<div class='alert alert-warning'>\n",
    "<b>ToDo</b> (1 point)\n",
    "</div>\n",
    "In the array `my_array` below, set all odd indices (i.e., the first element, the third element, the fifth element, etc.) to the value `0.0` *in a single statement using a slice* (i.e., not a for-loop)."
   ]
  },
  {
   "cell_type": "code",
   "execution_count": null,
   "metadata": {},
   "outputs": [],
   "source": [
    "# Implement the ToDo here\n",
    "my_array = np.arange(3, 25)\n",
    "\n",
    "# your solution here\n"
   ]
  },
  {
   "cell_type": "code",
   "execution_count": null,
   "metadata": {},
   "outputs": [],
   "source": [
    "''' Tests the above ToDo. '''\n",
    "\n",
    "def test_set_odd_indices_to_zero(arr):\n",
    "\n",
    "    c_answer = np.arange(3, 25)\n",
    "    c_answer[1::2] = 0.0\n",
    "\n",
    "    try:\n",
    "        np.testing.assert_array_almost_equal(arr, c_answer, 4)\n",
    "    except AssertionError as e:\n",
    "        print(\"Your array (%r) does not match the correct answer (%r)!\" % (arr, c_answer))\n",
    "    else:\n",
    "        print(\"Well done!\")\n",
    "\n",
    "test_set_odd_indices_to_zero(my_array)"
   ]
  },
  {
   "cell_type": "markdown",
   "metadata": {},
   "source": [
    "#### Multidimensional indexing\n",
    "Often, instead of working on and indexing 1D array, we'll work with multi-dimensional (>1D) arrays. Indexing multi-dimensional arrays is, again, quite similar to other scientific computing languages. \n",
    "\n",
    "Like indexing Python lists, indexing multidimensional numpy arrays is done with square brackets `[]`, in which you can put as many comma-delimited numbers as there are dimensions in your array. \n",
    "\n",
    "For example, suppose you have a 2D array of shape $3 \\times 3$ and you want to index the value in the first row and first column. You would do this as follows:"
   ]
  },
  {
   "cell_type": "code",
   "execution_count": null,
   "metadata": {},
   "outputs": [],
   "source": [
    "my_array = np.zeros((3, 3)) # 3 by 3 array with zeros\n",
    "indexed_value = my_array[0, 0]\n",
    "print(\"Value of first row and first column: %.1f\" % indexed_value)"
   ]
  },
  {
   "cell_type": "markdown",
   "metadata": {},
   "source": [
    "<div class='alert alert-warning'>\n",
    "<b>ToDo</b> (1 point)\n",
    "</div>\n",
    "Using multidimensional indexing, set the value in the last row and last column of the 2D array `my_array` to `1.0`. In other words, set the value in the lower-right \"corner\" of the 2D array to 1.0."
   ]
  },
  {
   "cell_type": "code",
   "execution_count": null,
   "metadata": {},
   "outputs": [],
   "source": [
    "import numpy as np\n",
    "my_array = np.zeros((3, 3))\n",
    "\n",
    "print(my_array)\n",
    "\n",
    "# ToDo: set the value in the lower right corner to 1\n",
    "\n",
    "# your solution here\n"
   ]
  },
  {
   "cell_type": "code",
   "execution_count": null,
   "metadata": {},
   "outputs": [],
   "source": [
    "''' Tests the ToDo above. '''\n",
    "\n",
    "def test_set_lower_right_value_to_one(arr):\n",
    "\n",
    "    c_answer = np.zeros((3, 3))\n",
    "    c_answer[-1, -1] = 1.0\n",
    "\n",
    "    try:\n",
    "        np.testing.assert_array_almost_equal(arr, c_answer, 4)\n",
    "    except AssertionError as e:\n",
    "        print(\"Your array: \\n\\n%r\\n\\ndoes not match the correct answer:\\n\\n%r!\" % (arr, c_answer))\n",
    "    else:\n",
    "        print(\"Well done!\")\n",
    "\n",
    "\n",
    "test_set_lower_right_value_to_one(my_array)"
   ]
  },
  {
   "cell_type": "markdown",
   "metadata": {},
   "source": [
    "In addition to setting specific slices to specific values, you can also extract sub-arrays using slicing/indexing. An important construct here is that you can use a single colon `:` to select all values from a particular dimension. For example, if you want to select all column-values (second dimension) from only the first row (first dimension), do this:\n",
    "\n",
    "```\n",
    "some_2d_arr[0, :]\n",
    "```\n",
    "\n",
    "We'll show you some examples below:"
   ]
  },
  {
   "cell_type": "code",
   "execution_count": null,
   "metadata": {},
   "outputs": [],
   "source": [
    "my_array = np.array([[1, 2, 3],\n",
    "                     [4, 5, 6],\n",
    "                     [7, 8, 9]])\n",
    "\n",
    "print(my_array, '\\n')\n",
    "\n",
    "all_column_values_from_first_row = my_array[0, :]\n",
    "print('First row')\n",
    "print(all_column_values_from_first_row, '\\n')\n",
    "\n",
    "all_row_values_from_first_col = my_array[:, 0]\n",
    "print('First column')\n",
    "print(all_row_values_from_first_col)"
   ]
  },
  {
   "cell_type": "markdown",
   "metadata": {},
   "source": [
    "So far, we only talked about 2D arrays, which are relatively easy to 'understand'. In neuroimaging, however, we usually work with 3D, 4D, or even higher-dimensional arrays. These arrays are great for organizing data (like 3D brain scans!), but they are somewhat unintuitive. This takes some time to get used to!\n",
    "\n",
    "To get you used to thinking in more than 2 (or 3) dimensions, consider the following scenario. A researcher wants to test the efficacy of a particular medicine against high blood pressure. To do so, he/she measures the (average systolic) blood pressure of a group of twenty subjects every hour for 30 days when they're not on the medication. The same subjects are then again measured for another 30 days, but then when they're on medication.\n",
    "\n",
    "After this period of data collection, the researcher has $20\\ (subjects)\\ \\times\\ 24\\ (hours)\\ \\times\\ 30\\ (days)\\ \\times\\ 2\\ (conditions: off/on) = 28800$ measurements! We can then organize the data in a 4D array, in which each factor (subjects/hours/days/conditions) represents a separate dimension (also called \"axis\") of our array!\n",
    "\n",
    "So, let's generate some random data (from a normal distribution to generate 'realistic' blood pressure data) that could represent this blood pressure dataset:"
   ]
  },
  {
   "cell_type": "code",
   "execution_count": null,
   "metadata": {},
   "outputs": [],
   "source": [
    "np.random.seed(42)  # this is not important for now\n",
    "bp_data = np.random.normal(loc=100, scale=5, size=(20, 24, 30, 2))"
   ]
  },
  {
   "cell_type": "markdown",
   "metadata": {},
   "source": [
    "(Note that we're not printing the `bp_data` variable here, because it's way too much to visualize/interpret at once anyway!)\n",
    "\n",
    "Now, suppose I would want to extract the blood pressure of subject 5 at 09.00 (AM) in the morning at day 21 when he/she was *not* on medication. In that case, I would do:"
   ]
  },
  {
   "cell_type": "code",
   "execution_count": null,
   "metadata": {},
   "outputs": [],
   "source": [
    "# Note that I count midnight as the first measurement\n",
    "this_particular_datapoint = bp_data[4, 8, 20, 0]\n",
    "print(\"Blood pressure of participant 5 at 09.00 (AM) on day 21 in \"\n",
    "      \"the no-medication (off) condition is %.3f\" % this_particular_datapoint)\n",
    "\n",
    "# Also, remember that Python is zero-based, so e.g. participant 5 is indexed by index 4!"
   ]
  },
  {
   "cell_type": "markdown",
   "metadata": {},
   "source": [
    "Try to remember this: **in multidimensional arrays, each dimension (axis) represents a different attribute of your data (e.g. subjects, time, condition, etc.)**. This concept will become very important to understand later when we're going to analyze 4D MRI-datasets (with 3 spatial dimensions and 1 time dimension)!"
   ]
  },
  {
   "cell_type": "markdown",
   "metadata": {},
   "source": [
    "<div class='alert alert-warning'>\n",
    "<b>ToDo</b> (1 point)\n",
    "</div>\n",
    "Consider the blood-pressure dataset again. In the code-cell below, extract from all participants all data from day 18 in the medication (\"on\") condition. You'll have to use slices with the single `:`! Store the results of your index-operation in the variable `day_18_condition_on`."
   ]
  },
  {
   "cell_type": "code",
   "execution_count": null,
   "metadata": {},
   "outputs": [],
   "source": [
    "# Implement your ToDo here (index the bp_data variable)\n",
    "\n",
    "# your solution here\n"
   ]
  },
  {
   "cell_type": "code",
   "execution_count": null,
   "metadata": {},
   "outputs": [],
   "source": [
    "''' Tests the above ToDo. '''\n",
    "if 'day_18_condition_on' not in dir():\n",
    "    raise ValueError(\"The variable 'day_18_condition_on' is not defined!\")\n",
    "\n",
    "def test_bloodpressure_index(arr):\n",
    "\n",
    "    np.random.seed(42)\n",
    "    bp_data = np.random.normal(loc=100, scale=5, size=(20, 24, 30, 2))\n",
    "    c_answer = bp_data[:, :, 17, 1]\n",
    "\n",
    "    try:\n",
    "        assert(arr.shape == (20, 24))\n",
    "    except AssertionError as e:\n",
    "        print(\"The result of your indexing operation is of shape %r, \"\n",
    "              \"while it should be %r, namely 20 subjects by 24 hours\"  % (arr.shape, (20, 24)))\n",
    "        raise(e)\n",
    "\n",
    "    try:\n",
    "        np.testing.assert_array_almost_equal(arr, c_answer, 4)\n",
    "    except AssertionError as e:\n",
    "        print(\"Your answer is not correct! Did you perhaps forget that Python has zero-based indexing? (First index is 0!)\")\n",
    "        raise(e)\n",
    "\n",
    "    print(\"Well done!\")\n",
    "\n",
    "test_bloodpressure_index(day_18_condition_on)"
   ]
  },
  {
   "cell_type": "markdown",
   "metadata": {},
   "source": [
    "Multidimensional indexing using slices (especially the single colon `:` slice, i.e., selecting everything) is very common in scientific programming such as neuroimaging analyses. There is, however, yet another way of (multidimensional) indexing called \"boolean indexing\". \n",
    "\n",
    "In this type of indexing, you index an array with a boolean array (i.e. array with True and False values) of the same shape. Basically, when you're indexing the array `my_array` with boolean array `bool_array`, you're saying: \"give me all values in `my_array` that are `True` at the same location in `bool_array`!\"\n",
    "\n",
    "Let's look at an example:"
   ]
  },
  {
   "cell_type": "code",
   "execution_count": null,
   "metadata": {},
   "outputs": [],
   "source": [
    "my_array = np.array([[1, 2, 3],\n",
    "                     [4, 5, 6],\n",
    "                     [7, 8, 9]])\n",
    "\n",
    "print(\"The original array:\\n\")\n",
    "print(my_array, '\\n')\n",
    "\n",
    "bool_array = np.array([[True, False, True],\n",
    "                       [False, True, False],\n",
    "                       [True, False, True]])\n",
    "\n",
    "print(\"The boolean array:\\n\")\n",
    "print(bool_array, '\\n')\n",
    "\n",
    "print('Result of indexing my_array with bool_array:\\n')\n",
    "print(my_array[bool_array])"
   ]
  },
  {
   "cell_type": "markdown",
   "metadata": {},
   "source": [
    "Usually, you do not write out the boolean array in full (as we did above), but you base it on the data itself to \"filter\" it according to some criterion formalized as a logical statement (i.e., using the boolean operators >, <, ==, or !=). For example, suppose I want to extract only the values above 6 from the `my_array` variable in the above example. \n",
    "\n",
    "To do so, I could do the following:"
   ]
  },
  {
   "cell_type": "code",
   "execution_count": null,
   "metadata": {},
   "outputs": [],
   "source": [
    "my_array = np.array([[1, 2, 3],\n",
    "                     [4, 5, 6],\n",
    "                     [7, 8, 9]])\n",
    "\n",
    "print(\"The original array:\\n\")\n",
    "print(my_array, '\\n')\n",
    "\n",
    "bool_array = my_array > 6\n",
    "\n",
    "print(\"The boolean array:\\n\")\n",
    "print(bool_array, '\\n')\n",
    "\n",
    "print('Result of indexing my_array with bool_array:\\n')\n",
    "print(my_array[bool_array])"
   ]
  },
  {
   "cell_type": "markdown",
   "metadata": {},
   "source": [
    "Easy, right? Now try it yourself in the next ToDo!"
   ]
  },
  {
   "cell_type": "markdown",
   "metadata": {},
   "source": [
    "<div class='alert alert-warning'>\n",
    "<b>ToDo</b> (1 point)\n",
    "</div>\n",
    "Use a boolean index to extract all values whose square (i.e. $value^2$) is larger than 4 from the array (`my_array`) below. Store the results in a variable with the name `square_is_larger_than_4`."
   ]
  },
  {
   "cell_type": "code",
   "execution_count": null,
   "metadata": {},
   "outputs": [],
   "source": [
    "my_array = np.array([[0, 1, -1, -2],\n",
    "                     [2, -5, 1, 4],\n",
    "                     [10, -2, -4, 20]])\n",
    "\n",
    "# Make a new boolean array below (name it whatever you want) ...\n",
    "\n",
    "# And use it to index my_array and store it in a variable `square_is_larger_than_4`.\n",
    "\n",
    "# your solution here\n"
   ]
  },
  {
   "cell_type": "code",
   "execution_count": null,
   "metadata": {},
   "outputs": [],
   "source": [
    "if 'square_is_larger_than_4' not in dir():\n",
    "    raise ValueError(\"Could not find the variable 'square_is_larger_than_4'; did you name it correctly?\")\n",
    "\n",
    "def test_boolean_indexing(arr):\n",
    "\n",
    "    my_array = np.array([[0, 1, -1, -2],\n",
    "                     [2, -5, 1, 4],\n",
    "                     [10, -2, -4, 20]])\n",
    "    c_answer = my_array[my_array ** 2 > 4]\n",
    "\n",
    "    try:\n",
    "        np.testing.assert_array_equal(arr, c_answer)\n",
    "    except AssertionError as e:\n",
    "        print(\"Incorrect answer! I expected %r, but I got %r\" % (c_answer, arr))\n",
    "\n",
    "    print(\"Well done!\")\n",
    "\n",
    "test_boolean_indexing(square_is_larger_than_4)"
   ]
  },
  {
   "cell_type": "markdown",
   "metadata": {},
   "source": [
    "Again, it's very important to understand how to (effectively) index multidimensional numpy arrays using slices and boolean indexing, as we'll use it a lot in this course!"
   ]
  },
  {
   "cell_type": "markdown",
   "metadata": {},
   "source": [
    "### Numpy: data-types\n",
    "Every numpy array is a grid of values of the same type. Numpy provides a large set of numeric datatypes that you can use to construct arrays. Numpy guesses the datatype when you create an array, but functions that construct arrays usually also include an optional argument to explicitly specify the datatype.\n",
    "\n",
    "Here are a couple of examples:"
   ]
  },
  {
   "cell_type": "code",
   "execution_count": null,
   "metadata": {},
   "outputs": [],
   "source": [
    "x1 = np.array([1, 2])  # Let numpy choose the datatype (here: int)\n",
    "x2 = np.array([1.0, 2.0])  # Let numpy choose the datatype (here: float)\n",
    "x3 = np.array([1, 2], dtype=np.float64)  # Force a particular datatype (input: int, but converted to 64bit float)\n",
    "x4 = np.array([-1, 0, 1, 2], dtype=bool)  # Convert ints to booleans! 0 -> False, everthing else -> True\n",
    "\n",
    "print('%r (%s)' % (x1, type(x1[0])))\n",
    "print('%r (%s)' % (x2, type(x2[0])))\n",
    "print('%r (%s)' % (x3, type(x3[0])))\n",
    "print('%r (%s)' % (x4, type(x4[0])))"
   ]
  },
  {
   "cell_type": "markdown",
   "metadata": {},
   "source": [
    "### Numpy: methods vs. functions\n",
    "In the previous section (Basic Python), you've learned that, in addition to functions, 'methods' exist that are like functions of an object. In other words, methods are functions that are applied to the object itself. You've seen examples of list methods, e.g. `my_list.append(1)`, and string methods, e.g. `my_string.replace('a', 'b')`.\n",
    "\n",
    "Like lists and strings, numpy arrays have a lot of convenient methods that you can call. Again, this is just like a function, but then applied to itself. Often, numpy provides both a function and method for simple operations. \n",
    "\n",
    "Let's look at an example: "
   ]
  },
  {
   "cell_type": "code",
   "execution_count": null,
   "metadata": {},
   "outputs": [],
   "source": [
    "my_array = np.arange(10)  # creates a numpy array from 0 until (excluding!) 10\n",
    "print(my_array, '\\n')\n",
    "\n",
    "mean_array = np.mean(my_array)\n",
    "print('The mean of the array is: %f' % mean_array, '\\n')\n",
    "\n",
    "mean_array2 = my_array.mean()\n",
    "print('The mean of the array (computed by its corresponding method) is: %f' % mean_array2, '\\n')\n",
    "\n",
    "print('Is the results from the numpy function the same as '\n",
    "      'the corresponding method? Answer: %s' % str(mean_array == mean_array2))"
   ]
  },
  {
   "cell_type": "markdown",
   "metadata": {},
   "source": [
    "If there is both a function and a method for the operation you want to apply to the array, it really doesn't matter what you choose! Let's look at some more (often used) methods of numpy ndarrays:"
   ]
  },
  {
   "cell_type": "code",
   "execution_count": null,
   "metadata": {},
   "outputs": [],
   "source": [
    "my_array = np.array([[1, 2, 3],\n",
    "                     [4, 5, 6],\n",
    "                     [7, 8, 9]])\n",
    "\n",
    "std_my_array = my_array.std()  # same as np.std(array)\n",
    "print(\"Standard deviation of my_array: %.3f\" % std_my_array, '\\n')\n",
    "\n",
    "transpose_my_array = my_array.T  # same as np.transpose(array)\n",
    "print(\"Transpose of my_array:\\n%r\" % transpose_my_array, '\\n')\n",
    "\n",
    "min_my_array = my_array.min()  # same as np.min(array)\n",
    "print(\"Minimum of my_array: %i\" % my_array.min(), '\\n')\n",
    "\n",
    "max_my_array = my_array.max()  # same as np.max(array)\n",
    "print(\"Maximum of my_array: %i\" % max_my_array, '\\n')\n",
    "\n",
    "sum_my_array = my_array.sum()  # same as np.sum(array)\n",
    "print(\"Sum of my_array: %i\" % sum_my_array, '\\n')"
   ]
  },
  {
   "cell_type": "markdown",
   "metadata": {},
   "source": [
    "Importantly, a method may or may not take arguments (input).\n",
    "If no arguments are given, it just looks like \"object.method()\", i.e. two enclosing brackets with nothing in between.\n",
    "However, a method may take one or more arguments (like the my_list.append(1) method)! \n",
    "This argument may be named or unnamed - doesn't matter. An example:"
   ]
  },
  {
   "cell_type": "code",
   "execution_count": null,
   "metadata": {},
   "outputs": [],
   "source": [
    "my_array2 = np.random.random((3, 3))\n",
    "print('Original array:')\n",
    "print(my_array2, '\\n')\n",
    "\n",
    "print('Use the round() method with the argument 3:')\n",
    "print(my_array2.round(3), '\\n')\n",
    "\n",
    "print('Use the round() method with the named argument 5:')\n",
    "print(my_array2.round(decimals=5), '\\n')"
   ]
  },
  {
   "cell_type": "markdown",
   "metadata": {},
   "source": [
    "**Some methods that you'll see a lot in the upcoming tutorials**. In addition to the methods listed above, you'll probably see the following methods a lot in the rest of this course (make sure you understand them!):\n",
    "\n",
    "Reshaping arrays:"
   ]
  },
  {
   "cell_type": "code",
   "execution_count": null,
   "metadata": {},
   "outputs": [],
   "source": [
    "my_array = np.arange(10)\n",
    "print(my_array.reshape((5, 2))) # reshape to desired shape"
   ]
  },
  {
   "cell_type": "markdown",
   "metadata": {},
   "source": [
    "Ravel (\"flatten\") an array:"
   ]
  },
  {
   "cell_type": "code",
   "execution_count": null,
   "metadata": {},
   "outputs": [],
   "source": [
    "temporary = my_array.reshape((5, 2))\n",
    "print(\"Initial shape: %s\" % (temporary.shape,))\n",
    "print(temporary.ravel()) # unroll multi-dimensional array to single 1D array\n",
    "print(\"Shape after ravel(): %s\" % (temporary.ravel().shape,))"
   ]
  },
  {
   "cell_type": "code",
   "execution_count": null,
   "metadata": {},
   "outputs": [],
   "source": [
    "# .dot() does matrix multiplication (dot product: https://en.wikipedia.org/wiki/Dot_product)\n",
    "# This linear algebra operation is used very often in neuroimaging research\n",
    "# (which depends heavily on the General Linear Model!)\n",
    "array1 = np.array([0, 1, 2, 3])\n",
    "array2 = np.array([4, 5, 6, 7])\n",
    "\n",
    "dot_product = array1.dot(array2)\n",
    "print(dot_product)"
   ]
  },
  {
   "cell_type": "markdown",
   "metadata": {},
   "source": [
    "<div class='alert alert-warning'>\n",
    "<b>ToDo</b> (1 point)\n",
    "</div>\n",
    "Let's practice writing functions some more. Complete the function below, named `calculate_range`. This function takes  a single input-argument - a 1D numpy array - and subsequently calculates the [range](https://en.wikipedia.org/wiki/Range_(statistics) of the array. The range is the difference between the maximum and minimum of any given array (vector) $x$:\n",
    "\n",
    "\\begin{align}\n",
    "range(x) = max(x) - min(x)\n",
    "\\end{align}\n",
    "\n",
    "You may use the corresponding numpy min/max methods or functions in your custom function, doesn't matter. Don't forget to explicitly return the value of the range! \n",
    "\n",
    "Note: this custom function that implements the *mathematical* formula for a vector's range is completely unrelated to the *Python function* `range` that is often used in for-loops! "
   ]
  },
  {
   "cell_type": "code",
   "execution_count": null,
   "metadata": {},
   "outputs": [],
   "source": [
    "# Complete the function below\n",
    "def calculate_range(arr):\n",
    "    ''' Calculate the range of an array.\n",
    "\n",
    "    Parameters\n",
    "    ----------\n",
    "    arr : a 1D numpy array\n",
    "\n",
    "    Returns\n",
    "    -------\n",
    "    The range of the input arr\n",
    "    '''\n",
    "\n",
    "    # your solution here\n"
   ]
  },
  {
   "cell_type": "code",
   "execution_count": null,
   "metadata": {},
   "outputs": [],
   "source": [
    "''' Tests the above ToDo. '''\n",
    "\n",
    "outp = calculate_range(np.array([0, 1, 2, 3]))\n",
    "if outp is None:\n",
    "    raise ValueError(\"Didn't get any output! Did you explicitly return the range?\")\n",
    "\n",
    "assert(outp == 3)\n",
    "assert(calculate_range(np.array([-1, 0, 1, 2])) == 3)\n",
    "assert(calculate_range(np.array([0, 0, 0, 0])) == 0)\n",
    "\n",
    "print(\"Well done!\")"
   ]
  },
  {
   "cell_type": "markdown",
   "metadata": {},
   "source": [
    "### Numpy: methods vs. attributes?\n",
    "Alright, by now, if you see a variable followed by a word ending with enclosed brackets, e.g. `my_array.mean()`, you'll know that it's a method! But sometimes you might see something similar, but **without** the brackets, such as `my_array.size`. This `.size` is called an **attribute** of the variable `my_array`. Like a method, it's an integral part of an object (such as a numpy ndarray). The attribute may be of any data-type, like a string, integer, tuple, an array itself. Let's look at an example:"
   ]
  },
  {
   "cell_type": "code",
   "execution_count": null,
   "metadata": {},
   "outputs": [],
   "source": [
    "my_array = np.array([[1, 2, 3],\n",
    "                     [4, 5, 6],\n",
    "                     [7, 8, 9]])\n",
    "\n",
    "print(my_array, '\\n')\n",
    "print('The size (number of element) in the array is:')\n",
    "print(my_array.size, '\\n')\n",
    "print('The .size attribute is of data-type: %s' % type(my_array.size))"
   ]
  },
  {
   "cell_type": "markdown",
   "metadata": {},
   "source": [
    "Alright, so by now you might be wondering what the difference between a method and an attribute is. Superficially, you can recognize a method by the form `object.method()` (note the brackets!), like `my_array.round()`; an attribute is virtually the same **but without brackets**, in the form of `object.attribute`, like `my_array.size`. \n",
    "\n",
    "Conceptually, you may think of methods as things that **do** something with the array, while attributes **say** something about the array.\n",
    "\n",
    "For example, `my_array.size` **does nothing** with the array - it only **says** something about the array (it gives information about its size), while `my_array.mean()` really **does** something (i.e. calculates the mean of the array). \n",
    "\n",
    "Again, you might not use attributes a lot during this course, but you'll definitely see them around in the code of the tutorials. Below, some of the common ndarray attributes are listed:"
   ]
  },
  {
   "cell_type": "code",
   "execution_count": null,
   "metadata": {},
   "outputs": [],
   "source": [
    "my_array = np.array([[1, 2, 3],\n",
    "                     [4, 5, 6],\n",
    "                     [7, 8, 9]])\n",
    "\n",
    "print('Size (number of elements) of array:')\n",
    "print(my_array.size, '\\n') # returns an integer\n",
    "\n",
    "print('Shape of array:')\n",
    "print(my_array.shape, '\\n') # this is a tuple!\n",
    "\n",
    "print('Number of dimensions:')\n",
    "print(my_array.ndim) # this is an integer"
   ]
  },
  {
   "cell_type": "markdown",
   "metadata": {},
   "source": [
    "<div class='alert alert-warning'>\n",
    "<b>ToDo</b> (2 points)\n",
    "</div>\n",
    "Let's try another one. Complete the function below, named `compute_one_sample_ttest`. This function takes two input arguments:\n",
    "\n",
    "- arr : a 1D numpy array\n",
    "- h0 : a scalar value (single number) that represents the value representing the null-hypothesis\n",
    "\n",
    "The function should compute the one-sample t-test, which tests whether the mean of an array is significantly different from a given value representing the null-hypothesis. Formally, for any given array $x$ and null-hypothesis $h_{0}$:\n",
    "\n",
    "\\begin{align}\n",
    "t = \\frac{\\bar{x} - h_{0}}{s\\ / \\sqrt{N}}\n",
    "\\end{align}\n",
    "\n",
    "Here: $\\bar{x}$ represents the mean of $x$, $s$ represents the standard deviation of $x$, and $N$ represents the length ('size') of x. So, in slightly less mathematical notation:\n",
    "\n",
    "\\begin{align}\n",
    "t = \\frac{mean(x) - h_{0}}{std(x)\\ / \\sqrt{length(x)}}\n",
    "\\end{align}\n",
    "\n",
    "Make sure to return the t-value! \n",
    "\n",
    "**Hint 1**: to compute $N$, you can use the `.size` attribute of an array ... <br>\n",
    "**Hint 2**: use the function `np.sqrt(some_number)` to calculate the square root ..."
   ]
  },
  {
   "cell_type": "code",
   "execution_count": null,
   "metadata": {},
   "outputs": [],
   "source": [
    "# Complete the function below!\n",
    "def compute_one_sample_ttest(arr, h0):\n",
    "    ''' Computes the one-sample t-test for any array and h0.\n",
    "\n",
    "    Parameters\n",
    "    ----------\n",
    "    arr : a 1D numpy array\n",
    "    h0 : an int or float\n",
    "\n",
    "    Returns\n",
    "    -------\n",
    "    A single value representing the t-value\n",
    "    '''\n",
    "\n",
    "    # your solution here\n"
   ]
  },
  {
   "cell_type": "code",
   "execution_count": null,
   "metadata": {},
   "outputs": [],
   "source": [
    "''' Tests the ToDo above. '''\n",
    "arr = np.random.randn(100)\n",
    "outp = compute_one_sample_ttest(arr , 0)\n",
    "\n",
    "if outp is None:\n",
    "    raise ValueError(\"Your function didn't return anything! Did you forget the return statement?\")\n",
    "\n",
    "def test_tvalue_computation(arr, h0, tval_ans):\n",
    "\n",
    "    c_tval = (arr.mean() - h0) / (arr.std() / np.sqrt(arr.size))\n",
    "\n",
    "    try:\n",
    "        np.testing.assert_almost_equal(tval_ans, c_tval)\n",
    "    except AssertionError as e:\n",
    "        print(\"T-value is incorrect! Your t-value is %.3f, while it should be %.3f\" % (tval_ans, c_tval))\n",
    "        raise(e)\n",
    "\n",
    "    print(\"Well done!\")\n",
    "\n",
    "test_tvalue_computation(arr, 0, outp)\n",
    "\n",
    "outp = compute_one_sample_ttest(arr, 5)\n",
    "test_tvalue_computation(arr, 5, outp)\n",
    "\n",
    "outp = compute_one_sample_ttest(arr, -3)\n",
    "test_tvalue_computation(arr, -3, outp)"
   ]
  },
  {
   "cell_type": "markdown",
   "metadata": {},
   "source": [
    "### Numpy: array math\n",
    "Now you know all the numpy basics necessary to do neuroimaging analysis! As you'll see in the last section (Working with nifti-images), we'll work with 3D (structural MRI images) or 4D (functional MRI images) numpy arrays a lot. Given that you know how the basics about numpy in general and numpy ndarrays in particular, we can utilize some of numpy's best features: (very fast) array math."
   ]
  },
  {
   "cell_type": "markdown",
   "metadata": {},
   "source": [
    "Basic mathematical functions operate elementwise on arrays, which means that the operation (e.g. addition) is applied onto each element in the array.\n",
    "\n",
    "So, let's initialize a 1D array with ten zeros and let's add 1 to it:"
   ]
  },
  {
   "cell_type": "code",
   "execution_count": null,
   "metadata": {},
   "outputs": [],
   "source": [
    "x = np.zeros(10)\n",
    "print(x, '\\n')\n",
    "x += 1 # remember: this the same as x = x + 1\n",
    "print(x)"
   ]
  },
  {
   "cell_type": "markdown",
   "metadata": {},
   "source": [
    "Additionally, you can also sum two arrays together in an elementwise manner by simply writing: `array_1 + array_2`, given that these two (or more) arrays are of the same shape! Let's look at an example:"
   ]
  },
  {
   "cell_type": "code",
   "execution_count": null,
   "metadata": {},
   "outputs": [],
   "source": [
    "x = np.array([[1,2],[3,4]], dtype=np.float64)\n",
    "y = np.array([[5,6],[7,8]], dtype=np.float64)\n",
    "\n",
    "print(\"x: \\n%r\" % x, '\\n')\n",
    "print(\"y: \\n%r\" % y, '\\n')\n",
    "print(\"x+y: \\n%r\" % (x + y), '\\n')"
   ]
  },
  {
   "cell_type": "markdown",
   "metadata": {},
   "source": [
    "Often, there exist function-equivalents of the mathematical operators. For example, `x + y` is the same as `np.add(x, y)`. However, it is recommended to use the operators wherever possible to improve readability of your code. See below for an example:"
   ]
  },
  {
   "cell_type": "code",
   "execution_count": null,
   "metadata": {},
   "outputs": [],
   "source": [
    "print(x + y, '\\n')\n",
    "print(np.add(x, y))"
   ]
  },
  {
   "cell_type": "markdown",
   "metadata": {},
   "source": [
    "Next to addition, we can also do elementwise subtraction, multiplication, divison, square root, and exponentiation:"
   ]
  },
  {
   "cell_type": "code",
   "execution_count": null,
   "metadata": {},
   "outputs": [],
   "source": [
    "# Elementwise difference; both produce the array\n",
    "print(x - y, '\\n')\n",
    "print(np.subtract(x, y))  # function-equivalent of above"
   ]
  },
  {
   "cell_type": "code",
   "execution_count": null,
   "metadata": {},
   "outputs": [],
   "source": [
    "# Elementwise product; both produce the array\n",
    "print(x * y, '\\n')\n",
    "print(np.multiply(x, y))"
   ]
  },
  {
   "cell_type": "code",
   "execution_count": null,
   "metadata": {},
   "outputs": [],
   "source": [
    "# Elementwise division; both produce the array\n",
    "# [[ 0.2         0.33333333]\n",
    "#  [ 0.42857143  0.5       ]]\n",
    "print(x / y, '\\n')\n",
    "print(np.divide(x, y))"
   ]
  },
  {
   "cell_type": "code",
   "execution_count": null,
   "metadata": {},
   "outputs": [],
   "source": [
    "# Elementwise square root; there is no operator-equivalent!\n",
    "print(np.sqrt(x))"
   ]
  },
  {
   "cell_type": "code",
   "execution_count": null,
   "metadata": {},
   "outputs": [],
   "source": [
    "# Elementwise exponentiation\n",
    "print(x ** y, '\\n')\n",
    "print(np.power(x, y))"
   ]
  },
  {
   "cell_type": "markdown",
   "metadata": {},
   "source": [
    "<div class='alert alert-warning'>\n",
    "<b>ToDo</b> (1 point)\n",
    "</div>\n",
    "Do an elementwise product between the two variables defined below (`arr_A` and `arr_B`) and subsequently add 5 to each element; store the result in a new variable called `result_product_and_sum`."
   ]
  },
  {
   "cell_type": "code",
   "execution_count": null,
   "metadata": {},
   "outputs": [],
   "source": [
    "# Implement the ToDo!\n",
    "arr_A = np.arange(10).reshape((5, 2))\n",
    "arr_B = np.arange(10, 20).reshape((5, 2))\n",
    "\n",
    "# your solution here\n"
   ]
  },
  {
   "cell_type": "code",
   "execution_count": null,
   "metadata": {},
   "outputs": [],
   "source": [
    "''' Tests the above ToDo. '''\n",
    "if 'result_product_and_sum' not in dir():\n",
    "    raise ValueError(\"The variable 'result_product_and_sum' does not seem to exist!\")\n",
    "\n",
    "def test_array_product_and_sum(arr):\n",
    "\n",
    "    arr_A = np.arange(10).reshape((5, 2))\n",
    "    arr_B = np.arange(10, 20).reshape((5, 2))\n",
    "    c_answer = (arr_A * arr_B) + 5\n",
    "\n",
    "    try:\n",
    "        np.testing.assert_array_equal(arr, c_answer)\n",
    "    except AssertionError as e:\n",
    "        print(\"Your answer is incorrect! I got:\\n\\n%r\\n\\nbut I expected:\\n\\n%r\" % (arr, c_answer))\n",
    "        raise(e)\n",
    "    else:\n",
    "        print(\"Well done!\")\n",
    "\n",
    "test_array_product_and_sum(result_product_and_sum)"
   ]
  },
  {
   "cell_type": "markdown",
   "metadata": {},
   "source": [
    "Note that unlike MATLAB, `*` is elementwise multiplication, not matrix multiplication. We instead use the dot function (or method!) to  compute matrix operations like inner products of vectors, multiplication of a vector by a matrix, and multiplication of two matrices.\n",
    "\n",
    "These matrix operations are quite important in this course, because they are used a lot in neuroimaging methods (such as the General Linear Model, the topic of next week!). You're not expected to fully understand these matrix operations, but you'll see them several times in this course, so make sure you're familiar with its implementation in Python/Numpy.\n",
    "\n",
    "An example of the inner product (\"dot product\") of two vectors in both the function-format and the method-format:"
   ]
  },
  {
   "cell_type": "code",
   "execution_count": null,
   "metadata": {},
   "outputs": [],
   "source": [
    "v = np.array([9,10])\n",
    "w = np.array([11, 12])\n",
    "\n",
    "# Inner product of vectors; both produce 219\n",
    "print(v.dot(w))\n",
    "print(np.dot(v, w))"
   ]
  },
  {
   "cell_type": "markdown",
   "metadata": {},
   "source": [
    "Probably the most used functions in numpy are the sum() and mean() fuctions (or equivalent methods!). A nice feature is that they can operate on the entire array (this is the default) or they can be applied per dimension (or, in numpy lingo, per \"axis\").\n",
    "\n",
    "Applying functions along axes is very common in scientific computing! Let's look at an example in which we apply the `sum` function/method across rows and columns:"
   ]
  },
  {
   "cell_type": "code",
   "execution_count": null,
   "metadata": {},
   "outputs": [],
   "source": [
    "x = np.array([[1, 2],[3, 4], [5, 6]])\n",
    "\n",
    "print('Original array:')\n",
    "print(x, '\\n')\n",
    "\n",
    "print('Sum over ALL elements of x:')\n",
    "print(np.sum(x), '\\n')\n",
    "\n",
    "print('Sum across rows of x:')\n",
    "print(np.sum(x, axis=0), '\\n')\n",
    "\n",
    "print('Sum across columns of x:')\n",
    "print(x.sum(axis=1)) # this is the method form! Is exactly the same as np.sum(x, axis=1)"
   ]
  },
  {
   "cell_type": "markdown",
   "metadata": {},
   "source": [
    "Importantly, application of functions across axes is much quicker (and more concise) than writing for-loops! Let's look at the speed difference between a for-loop (implemented as a list comprehension) and the numpy-style application of the `sum` function across axes:"
   ]
  },
  {
   "cell_type": "code",
   "execution_count": null,
   "metadata": {},
   "outputs": [],
   "source": [
    "arr = np.random.random((1000, 100))\n",
    "loop_style = %timeit -o [arr[i, :].sum() for i in range(arr.shape[0])]\n",
    "axis_style = %timeit -o arr.sum(axis=1)\n",
    "print(\"Using the axis-argument is %.3f times faster than a for-loop!\" % (loop_style.average / axis_style.average))"
   ]
  },
  {
   "cell_type": "markdown",
   "metadata": {},
   "source": [
    "This application of functions on entire arrays (in an elementwise manner, like `arr_1 + arr_2`) and application of functions across a certain axis (like `np.sum(arr_1, axis=1)`) is often called **vectorization**. This is an incredibly useful concept and something we'll use a lot in this course! Make sure you understand this. \n",
    "\n",
    "Let's practice this a bit."
   ]
  },
  {
   "cell_type": "markdown",
   "metadata": {},
   "source": [
    "<div class='alert alert-warning'>\n",
    "<b>ToDo</b> (1 point)\n",
    "</div>\n",
    "Remember the \"range\" function from before? Below, we started writing a function, called `calculate_range_vectorized`, that calculates, for any 2D array, the range of each column (i.e. calculates range **across rows** for each column) in a *vectorized manner* (so without any for loops!).\n",
    "\n",
    "Complete the function, and make sure to return the result, which should be a 1D vector which values represents the ranges for all columns. So, if the input array would be of shape `(100, 10)`, then the shape of your returned array should be `(10,)`."
   ]
  },
  {
   "cell_type": "code",
   "execution_count": null,
   "metadata": {},
   "outputs": [],
   "source": [
    "def compute_range_vectorized(arr):\n",
    "    ''' Compute the range across rows for each column in a 2D array.\n",
    "\n",
    "    Parameters\n",
    "    ----------\n",
    "    arr : a 2D numpy array\n",
    "\n",
    "    Returns\n",
    "    -------\n",
    "    A 1D vector with the ranges for each column\n",
    "    '''\n",
    "\n",
    "    # your solution here\n"
   ]
  },
  {
   "cell_type": "code",
   "execution_count": null,
   "metadata": {},
   "outputs": [],
   "source": [
    "np.random.seed(42)\n",
    "test_arr = np.random.random((100, 10))\n",
    "outp = compute_range_vectorized(test_arr)\n",
    "\n",
    "if outp is None:\n",
    "    raise ValueError(\"Output is None! Did you forget the Return statement in your function?\")\n",
    "\n",
    "def test_compute_range_vectorized(arr, ans):\n",
    "\n",
    "    c_answer = arr.max(axis=0) - arr.min(axis=0)\n",
    "\n",
    "    try:\n",
    "        assert(ans.shape == c_answer.shape)\n",
    "    except AssertionError as e:\n",
    "        print(\"The shape of your answer is incorrect! I got %r, \"\n",
    "              \"but I expected %r for input-array of shape %r\" % (ans.shape, c_answer.shape, arr.shape))\n",
    "        raise(e)\n",
    "\n",
    "    try:\n",
    "        np.testing.assert_array_almost_equal(ans, c_answer, 4)\n",
    "    except AssertionError as e:\n",
    "        print(\"Your answer is incorrect! Your answer is:\\n\\n%r/n/n But I expected:\\n\\n%r\" % (ans, c_answer))\n",
    "        raise(e)\n",
    "\n",
    "    print(\"Well done!\")\n",
    "\n",
    "test_compute_range_vectorized(test_arr, outp)"
   ]
  },
  {
   "cell_type": "markdown",
   "metadata": {},
   "source": [
    "### Broadcasting\n",
    "Broadcasting is a powerful mechanism that allows numpy to work with arrays of different shapes when performing arithmetic operations. Frequently we have a smaller array and a larger array, and we want to use the smaller array multiple times to perform some operation on the larger array.\n",
    "\n",
    "For example, suppose that we want to add a vector to each row of a matrix. We could do it like this:"
   ]
  },
  {
   "cell_type": "code",
   "execution_count": null,
   "metadata": {},
   "outputs": [],
   "source": [
    "# We will add the vector v to each row of the matrix x,\n",
    "# storing the result in the matrix y\n",
    "x = np.array([[1,2,3], [4,5,6], [7,8,9], [10, 11, 12]])\n",
    "\n",
    "print('x array is of shape: %r' % (x.shape,))\n",
    "print(x, '\\n')\n",
    "\n",
    "v = np.array([1, 0, 1])\n",
    "print('v vector is of shape: %r (different shape than x!)' % (v.shape,))\n",
    "print(v, '\\n')\n",
    "\n",
    "y = np.zeros(x.shape)   # Create an empty (zeros) matrix with the same shape as x\n",
    "print('Shape of (pre-allocated) y-matrix: %r' % (y.shape,))\n",
    "\n",
    "# Add the vector v to each row of the matrix x with an explicit loop\n",
    "for i in range(x.shape[0]): # see how the shape attributes comes in handy in creating loops?\n",
    "    y[i, :] = x[i, :] + v\n",
    "\n",
    "print('The result of adding v to each row of x, as stored in y:')\n",
    "print(y)"
   ]
  },
  {
   "cell_type": "markdown",
   "metadata": {},
   "source": [
    "This works; however when the matrix `x` is very large, computing an explicit for-loop in Python could be slow. Note that adding the vector v to each row of the matrix `x` is equivalent to forming a matrix `vv` by stacking multiple copies of `v` vertically, like this `[[1 0 1], [1 0 1], [1 0 1], [1 0 1]]`, and subsequently elementwise addition of `x + vv`:"
   ]
  },
  {
   "cell_type": "code",
   "execution_count": null,
   "metadata": {},
   "outputs": [],
   "source": [
    "vv = np.tile(v, (4, 1)) # i.e. expand vector 'v' 4 times along the row dimension (similar to MATLAB's repmat function)\n",
    "y = x + vv  # Add x and vv elementwise\n",
    "print(y)"
   ]
  },
  {
   "cell_type": "markdown",
   "metadata": {},
   "source": [
    "Numpy **broadcasting** allows us to perform this computation without actually creating multiple copies of v. Consider this version, using broadcasting:"
   ]
  },
  {
   "cell_type": "code",
   "execution_count": null,
   "metadata": {},
   "outputs": [],
   "source": [
    "# We will add the vector v to each row of the matrix x,\n",
    "# storing the result in the matrix y\n",
    "x = np.array([[1,2,3], [4,5,6], [7,8,9], [10, 11, 12]])\n",
    "v = np.array([1, 0, 1])\n",
    "y = x + v  # Add v to each row of x using broadcasting\n",
    "print(y)"
   ]
  },
  {
   "cell_type": "markdown",
   "metadata": {},
   "source": [
    "The line `y = x + v` works even though `x` has shape `(4, 3)` and `v` has shape `(3,)` due to broadcasting; this line works as if v actually had shape `(4, 3)`, where each row was a copy of `v`, and the sum was performed elementwise.\n",
    "\n",
    "This broadcasting function is really useful, as it prevents us from writing unnessary and by definition slower explicit for-loops. Additionally, it's way easier to read and write than explicit for-loops (which need pre-allocation). Functions that support broadcasting are known as universal functions. You can find the list of all universal functions in the [documentation](http://docs.scipy.org/doc/numpy/reference/ufuncs.html#available-ufuncs).\n",
    "\n",
    "Here are some applications of broadcasting using different functions:"
   ]
  },
  {
   "cell_type": "code",
   "execution_count": null,
   "metadata": {},
   "outputs": [],
   "source": [
    "x = np.array([[1, 2],[3, 4], [5, 6]], dtype=np.float)\n",
    "x_sum = x.sum(axis=0)\n",
    "\n",
    "print(x / x_sum, '\\n')\n",
    "\n",
    "x_mean = x.mean(axis=0)\n",
    "print(x / x_mean)"
   ]
  },
  {
   "cell_type": "markdown",
   "metadata": {},
   "source": [
    "<div class='alert alert-warning'>\n",
    "<b>ToDo</b> (2 points)\n",
    "</div>\n",
    "Below, we started writing a function called `standardize_columns`, which takes a single input-argument - a 2D numpy array - and should subsequently *standardize* each column such that each column has a mean of zero and a standard deviation of 1. In other words, standardization subtracts the mean (across rows) of each column from the values in that column, and then divides those value with the standard deviation of that column. Formally, for each column $j$ in any 2D array, standardization entails:\n",
    "\n",
    "\\begin{align}\n",
    "x_{j}\\ standardized = \\frac{(x_{j} - \\bar{x_{j}})}{std(x_{j})}\n",
    "\\end{align}\n",
    "\n",
    "Standardization, which is also oftend called \"z-transformation\", is often done in statistics. We'll also see this next week.\n",
    "\n",
    "So, in the function below, make sure that it is able to standardize each column in any 2D array. Make sure to use vectorized array computations (i.e, the `np.mean` and `np.std` functions/methods across rows) and broadcasting, so no for-loops! "
   ]
  },
  {
   "cell_type": "code",
   "execution_count": null,
   "metadata": {},
   "outputs": [],
   "source": [
    "def standardize_columns(arr):\n",
    "    ''' Standardize each column of a 2D input-array.\n",
    "\n",
    "    Parameters\n",
    "    ----------\n",
    "    arr : a 2D numpy array\n",
    "\n",
    "    Returns\n",
    "    -------\n",
    "    The input-array with standardized columns (should have the same shape as the input-array!)\n",
    "    '''\n",
    "\n",
    "    # your solution here\n"
   ]
  },
  {
   "cell_type": "code",
   "execution_count": null,
   "metadata": {},
   "outputs": [],
   "source": [
    "''' Tests the above ToDo. '''\n",
    "\n",
    "test_arr = np.random.normal(5, 2, size=(100, 10))\n",
    "outp = standardize_columns(test_arr)\n",
    "\n",
    "if outp is None:\n",
    "    raise ValueError(\"The output from your function is None; did you forget the Return statement?\")\n",
    "\n",
    "try:\n",
    "    np.testing.assert_array_almost_equal(outp.mean(axis=0), np.zeros(test_arr.shape[1]))\n",
    "except AssertionError as e:\n",
    "    print(\"The mean of the columns of your standardized array are not 0!\")\n",
    "    raise(e)\n",
    "\n",
    "try:\n",
    "    np.testing.assert_array_almost_equal(outp.std(axis=0), np.ones(test_arr.shape[1]))\n",
    "except AssertionError as e:\n",
    "    print(\"The std of the columns of your standardized array are not 1!\")\n",
    "    raise(e)\n",
    "\n",
    "print(\"Well done!\")"
   ]
  },
  {
   "cell_type": "markdown",
   "metadata": {},
   "source": [
    "Now, you know the most important numpy concepts and functionality that is necessary to do neuroimaging analysis. Surely, there is a lot more to the numpy package that what we've covered here! But for now, let's continue with plotting using Matplotlib!"
   ]
  }
 ],
 "metadata": {
  "kernelspec": {
   "display_name": "neuro",
   "language": "python",
   "name": "python3"
  },
  "language_info": {
   "codemirror_mode": {
    "name": "ipython",
    "version": 3
   },
   "file_extension": ".py",
   "mimetype": "text/x-python",
   "name": "python",
   "nbconvert_exporter": "python",
   "pygments_lexer": "ipython3",
   "version": "3.11.6"
  }
 },
 "nbformat": 4,
 "nbformat_minor": 2
}
