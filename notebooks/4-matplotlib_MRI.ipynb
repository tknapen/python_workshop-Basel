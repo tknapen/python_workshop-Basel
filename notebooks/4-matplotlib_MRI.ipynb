{
 "cells": [
  {
   "cell_type": "markdown",
   "metadata": {},
   "source": [
    "## 1. Matplotlib\n",
    "Matplotlib is Python's main plotting library. In this section give a brief introduction to the `matplotlib.pyplot` module, which provides a plotting system similar to that of MATLAB."
   ]
  },
  {
   "cell_type": "code",
   "execution_count": null,
   "metadata": {},
   "outputs": [],
   "source": [
    "import matplotlib.pyplot as plt # this is how matplotlib.pyplot is usually imported\n",
    "import numpy as np"
   ]
  },
  {
   "cell_type": "markdown",
   "metadata": {},
   "source": [
    "By running this special iPython command, we will be displaying plots inline (instead of in a new window; this is only relevant in Jupyter notebooks!):"
   ]
  },
  {
   "cell_type": "code",
   "execution_count": null,
   "metadata": {},
   "outputs": [],
   "source": [
    "%matplotlib inline"
   ]
  },
  {
   "cell_type": "markdown",
   "metadata": {},
   "source": [
    "### Plotting\n",
    "The most important function in `matplotlib` is **`plot`**, which allows you to plot 1 dimensional data. Here is a simple example:"
   ]
  },
  {
   "cell_type": "code",
   "execution_count": null,
   "metadata": {},
   "outputs": [],
   "source": [
    "# Draw a line with coordinates from vectors x and y\n",
    "x = np.arange(0, 11)  # 0 - 10\n",
    "y = np.arange(0, 11)  # 0 - 10, same as x\n",
    "\n",
    "# Plot the points using matplotlib\n",
    "plt.plot(x, y)\n",
    "plt.show()"
   ]
  },
  {
   "cell_type": "markdown",
   "metadata": {},
   "source": [
    "With just a little bit of extra work we can easily plot multiple lines at once, and add a title, legend, and axis labels:"
   ]
  },
  {
   "cell_type": "code",
   "execution_count": null,
   "metadata": {},
   "outputs": [],
   "source": [
    "y2 = np.ones(x.size)  # vector of ones, i.e., straight line\n",
    "\n",
    "# Plot the points using matplotlib\n",
    "plt.plot(x, y)\n",
    "plt.plot(x, y2)\n",
    "plt.xlabel('x axis label')\n",
    "plt.ylabel('y axis label')\n",
    "plt.title('Two lines')\n",
    "plt.legend(['Linear increasing line', 'Constant line'])\n",
    "plt.show()"
   ]
  },
  {
   "cell_type": "markdown",
   "metadata": {},
   "source": [
    "### Subplots \n",
    "You can plot different subplots in a single figure using the subplot function. Here is an example:"
   ]
  },
  {
   "cell_type": "code",
   "execution_count": null,
   "metadata": {},
   "outputs": [],
   "source": [
    "# Compute the x and y coordinates for points on sine and cosine curves\n",
    "x = np.arange(0, 3 * np.pi, 0.1)\n",
    "y_sin = np.sin(x)\n",
    "y_cos = np.cos(x)\n",
    "\n",
    "# Set up a subplot grid that has 2 'rows' and 1 'column',\n",
    "# and set the first such subplot as active.\n",
    "plt.subplot(2, 1, 1)  # the third argument here sets the 'active' plot\n",
    "\n",
    "# Make the first plot\n",
    "plt.plot(x, y_sin)\n",
    "plt.title('Sine')\n",
    "\n",
    "# Set the second subplot as active, and make the second plot.\n",
    "plt.subplot(2, 1, 2)\n",
    "plt.plot(x, y_cos)\n",
    "plt.title('Cosine')\n",
    "\n",
    "# Show the figure.\n",
    "plt.tight_layout() # this prevents plots from overlapping\n",
    "plt.show()"
   ]
  },
  {
   "cell_type": "markdown",
   "metadata": {},
   "source": [
    "And we can add text to plots as such:"
   ]
  },
  {
   "cell_type": "code",
   "execution_count": null,
   "metadata": {},
   "outputs": [],
   "source": [
    "x = np.arange(-1, 1, 0.01) # array from -1 to 1 in steps of 0.01\n",
    "\n",
    "# Set up a subplot grid that has 2 'rows' and 1 'column',\n",
    "# and set the first such subplot as active.\n",
    "plt.subplot(2, 1, 1)\n",
    "plt.plot(x, x ** 2)\n",
    "plt.title('x squared')\n",
    "plt.text(-0.5, 0.4, r\"$y=x^2$\", fontsize=20, color=\"blue\")\n",
    "\n",
    "# Set the second subplot as active, and make the second plot.\n",
    "plt.subplot(2, 1, 2)\n",
    "plt.plot(x, x ** 3)\n",
    "plt.title('x cubed')\n",
    "plt.text(-0.5, 0.4, r\"$y=x^3$\", fontsize=20, color=\"green\")\n",
    "\n",
    "plt.tight_layout()\n",
    "plt.show()"
   ]
  },
  {
   "cell_type": "markdown",
   "metadata": {},
   "source": [
    "You can read much more about the `subplot` function in the [documentation](http://matplotlib.org/api/pyplot_api.html#matplotlib.pyplot.subplot).\n",
    "\n",
    "One pointer: a sometimes more convenient way of using subplots is with the function `plt.subplots`, which creates a new figure and returns a NumPy array containing the created subplot objects. Something like in this non-functional example:\n",
    "\n",
    "```python\n",
    "f, sbps = plt.subplots(2, 2)\n",
    "for i in [0,1]:\n",
    "    for j in [0,1]:\n",
    "        sbps[i,j].plot(x, y, 'r')\n",
    "```"
   ]
  },
  {
   "cell_type": "markdown",
   "metadata": {},
   "source": [
    "<div class='alert alert-warning'>\n",
    "<b>ToDo</b> (1 point)\n",
    "</div>\n",
    "Below, we initialized a 2D array of shape `(10, 100)` named `arr_2D`. In a figure with two subplots (across two columns), plot in the left subplot the mean across columns (i.e., 10 values) and in the right subplot plot the standard deviation across columns (also 10 values). **Hint**: these values represent the values on the `y-axis`. You can use `x = np.arange(10)` for the `x-axis`.\n",
    "\n",
    "Also, give the subplots labels for the x- and y-axis, and give it a title.\n"
   ]
  },
  {
   "cell_type": "code",
   "execution_count": null,
   "metadata": {},
   "outputs": [],
   "source": [
    "arr_2D = np.random.normal(0, 1, size=(10, 100))\n",
    "\n",
    "# Make your plot below!\n",
    "\n",
    "# your solution here\n"
   ]
  },
  {
   "cell_type": "markdown",
   "metadata": {},
   "source": [
    "### Histograms\n",
    "Now let's generate some random data using the np.random functionality, and get some histograms of their distributions"
   ]
  },
  {
   "cell_type": "code",
   "execution_count": null,
   "metadata": {},
   "outputs": [],
   "source": [
    "rand_uniform = np.random.uniform(size = (1000)) # uniform distribution\n",
    "rand_normal = np.random.normal(size = (1000))   # normal distribution\n",
    "rand_exponential = np.random.exponential(size = (1000)) # exponential distribution"
   ]
  },
  {
   "cell_type": "code",
   "execution_count": null,
   "metadata": {},
   "outputs": [],
   "source": [
    "# Set up a subplot grid that has rows=2 and columns=3,\n",
    "# and set the first such subplot as active.\n",
    "plt.subplot(1, 3, 1)\n",
    "\n",
    "# Make the first plot\n",
    "plt.hist(rand_uniform, color='g')\n",
    "plt.title('uniform')\n",
    "\n",
    "# Set the second subplot as active, and make the second plot.\n",
    "plt.subplot(1, 3, 2)\n",
    "plt.hist(rand_normal, color='b')\n",
    "\n",
    "plt.title('normal')\n",
    "\n",
    "# Set the second subplot as active, and make the second plot.\n",
    "plt.subplot(1, 3, 3)\n",
    "plt.hist(rand_exponential, color='r')\n",
    "plt.title('exponential')\n",
    "\n",
    "plt.tight_layout()\n",
    "plt.show()"
   ]
  },
  {
   "cell_type": "markdown",
   "metadata": {},
   "source": [
    "### Images\n",
    "So far, we've been plotting lines. Matplotlib also has easy functionality for plotting two-dimensional data-arrays, such as pictures. This is done using the command `plt.imshow()`. We'll use this feature a lot, because it allows us to visualize 2D slices of MRI-data as well! (Remember, MRI data is essentially just a 3D \"picture\" of the brain.) "
   ]
  },
  {
   "cell_type": "code",
   "execution_count": null,
   "metadata": {},
   "outputs": [],
   "source": [
    "# the scipy module includes some pictures, so we can use those:\n",
    "from scipy import misc\n",
    "bw_photo = misc.face(gray=True)\n",
    "\n",
    "# now we can use the imshow command to plot 2d data:\n",
    "plt.imshow(bw_photo,cmap='gray')\n",
    "plt.show()"
   ]
  },
  {
   "cell_type": "markdown",
   "metadata": {},
   "source": [
    "Importanty, photos are just 2D arrays with numbers representing the luminance (in black-and-white pictures) of each pixel. You can see this by printing the loaded image:"
   ]
  },
  {
   "cell_type": "code",
   "execution_count": null,
   "metadata": {},
   "outputs": [],
   "source": [
    "print(\"Shape of photo object: %r\" % (bw_photo.shape,), '\\n')\n",
    "print(bw_photo)"
   ]
  },
  {
   "cell_type": "markdown",
   "metadata": {},
   "source": [
    "You can see that it's actually just a bunch of numbers (one number per pixel), and when we plot colorbar with the original picture, we see that high numbers convert to bright shades, and low numbers convert to dark shades. "
   ]
  },
  {
   "cell_type": "code",
   "execution_count": null,
   "metadata": {},
   "outputs": [],
   "source": [
    "plt.imshow(bw_photo,cmap='gray')\n",
    "plt.colorbar()\n",
    "plt.show()"
   ]
  },
  {
   "cell_type": "markdown",
   "metadata": {},
   "source": [
    "Using the knowledge that black and white images are nothing more than just 2d-arrays of values, we can also generate our own images:"
   ]
  },
  {
   "cell_type": "code",
   "execution_count": null,
   "metadata": {},
   "outputs": [],
   "source": [
    "rand_img = np.random.random((200,200)) # Create an array filled with random values\n",
    "print(rand_img, '\\n')\n",
    "plt.imshow(rand_img, cmap='gray')\n",
    "plt.colorbar()\n",
    "plt.show()"
   ]
  },
  {
   "cell_type": "markdown",
   "metadata": {},
   "source": [
    "<div class='alert alert-warning'>\n",
    "<b>ToDo</b> (0 points, no test-cell)\n",
    "</div>\n",
    "\n",
    "Below, we loaded in a 2D array named `mystery_data`. Visualize it using `plt.imshow()` (using the argument `cmap='gray'`) to check out what the data entails!"
   ]
  },
  {
   "cell_type": "code",
   "execution_count": null,
   "metadata": {},
   "outputs": [],
   "source": [
    "mystery_data = np.load('data/smoothed_data_todo.npy')[:,:,10,10]\n",
    "\n",
    "# Visualize it using plt.imshow!\n"
   ]
  },
  {
   "cell_type": "markdown",
   "metadata": {},
   "source": [
    "Now that you know some basics of data types, arrays and plotting, it's time to get to work with some fMRI data!"
   ]
  },
  {
   "cell_type": "markdown",
   "metadata": {},
   "source": [
    "## 2. Neuroimaging analysis with Python\n",
    "\n",
    "Let's put this into practice with some real data! For this tutorial we've chosen to use fMRI data, since it lends itself well to visualization and analysis with Python.\n",
    "\n",
    "Although (f)MRI data can come in many formats, by far the most used format is **nifti** (nifti has been developed by the **n**euroimaging **i**n**f**ormatics **t**echnology **i**nitiative). You can recognize nifti files by their extension of **.nii** or its compressed version **.nii.gz**. This file-format is also used by some of the main neuroimaging software packages such as AFNI, nipype, and FSL.\n",
    "\n",
    "However, we'd like to inspect and analyze nifti images in Python as well! **Nibabel** is a Python package that allows us to read and load nifti images as numpy arrays in a straightforward manner. Let's install it and look at an example:"
   ]
  },
  {
   "cell_type": "code",
   "execution_count": null,
   "metadata": {},
   "outputs": [],
   "source": [
    "# first, we install nibabel & a zipfile package\n",
    "!pip install nibabel zipfile36"
   ]
  },
  {
   "cell_type": "code",
   "execution_count": null,
   "metadata": {},
   "outputs": [],
   "source": [
    "# If you haven't done so already, load some other packages we need\n",
    "import numpy as np\n",
    "import matplotlib.pyplot as plt\n",
    "import nibabel as nib # common way of importing nibabel"
   ]
  },
  {
   "cell_type": "code",
   "execution_count": null,
   "metadata": {},
   "outputs": [],
   "source": [
    "# we'll also need to download the actual data to the present working directory\n",
    "\n",
    "from zipfile import ZipFile\n",
    "from urllib.request import urlretrieve\n",
    "from pathlib import Path\n",
    "\n",
    "url = 'https://figshare.com/ndownloader/files/44601394'\n",
    "fp = Path.cwd() / 'data.zip'\n",
    "\n",
    "\n",
    "if not fp.is_file():\n",
    "    print(f\"Downloading data file from figshare to {fp}\")\n",
    "    urlretrieve(url, fp)\n",
    "    ZipFile(fp).extractall()\n"
   ]
  },
  {
   "cell_type": "markdown",
   "metadata": {},
   "source": [
    "We'll load in an fMRI-scan using nibabel below:"
   ]
  },
  {
   "cell_type": "code",
   "execution_count": null,
   "metadata": {},
   "outputs": [],
   "source": [
    "data_path = fp.parent / fp.stem / 'func_data.nii.gz'\n",
    "data = nib.load(data_path)"
   ]
  },
  {
   "cell_type": "markdown",
   "metadata": {},
   "source": [
    "Right now, we haven't loaded the *actual* data **in memory** yet, but only the meta-data (information **about** the data, such as its shape, dimensions, and some technical MRI acquisition parameters). So, what we've loaded now (in the variable `data`) is **not** a numpy array (yet), but a different object: a `Nifti-object`.\n",
    "\n",
    "Like a numpy array, this object has some attributes and methods that we can use. \n",
    "Let's check out some of this meta-data that is already available through its methods/attributes.\n",
    "\n",
    "For example, `Nifti-objects`, like numpy-arrays, also have a `shape` attribute:"
   ]
  },
  {
   "cell_type": "code",
   "execution_count": null,
   "metadata": {},
   "outputs": [],
   "source": [
    "print('Shape of the data:')\n",
    "print(data.shape) # this is one of the attributes of a Nifti-object in Python, just like a numpy array shape attribute!"
   ]
  },
  {
   "cell_type": "markdown",
   "metadata": {},
   "source": [
    "From the shape of the data, we can already infer some things about the file we're working with. Clearly, it has 4 dimensions, which means that it is a functional file: 3 spatial dimensions, and 1 time dimension! Remember the blood-pressure data? This 4D representation of fMRI files is very similar. Here, each axis represents a different feature/factor of the data: \n",
    "\n",
    "1. the first axis represents the first spatial dimension (the \"saggital\" dimension, usually referred to as $X$)\n",
    "2. the second axis represents the second spatial dimension (the \"coronal\" dimension, usually referred to as $Y$)\n",
    "3. the third axis represents the third spatial dimension (the \"axial\" dimension, usually referred to as $Z$)\n",
    "4. the fourth axis represents the time dimension (usually referred to as $T$, or $N$, \"volumes\", or \"dynamics\")\n",
    "\n",
    "We'll practice with this data-organization later.\n",
    "\n",
    "Another attribute of this Nifti-object that you might check is the **header** attribute. Perhaps confusingly, the header attribute is another object itself, also with its own methods and attributes. Let's check out some of them: "
   ]
  },
  {
   "cell_type": "code",
   "execution_count": null,
   "metadata": {},
   "outputs": [],
   "source": [
    "header = data.header\n",
    "print('Get the measurements of our dimensions:')\n",
    "print(header.get_zooms())"
   ]
  },
  {
   "cell_type": "markdown",
   "metadata": {},
   "source": [
    "Above, the four numbers represent the measurements of the data's four dimensions (3 space dims, 1 time dim). But what the hell do these numbers represent? Millimeters, liters, km/hr?\n",
    "\n",
    "Actually, the units of these dimensions can be accessed through the `header.get_xyzt_units()` (x, y, and z = spatial dims, t = time dims):"
   ]
  },
  {
   "cell_type": "code",
   "execution_count": null,
   "metadata": {},
   "outputs": [],
   "source": [
    "print('Units of our measurements:')\n",
    "print(header.get_xyzt_units())\n",
    "# so space is in mm (voxels are 3 x 3 x 3.3 mm in size!) and time is in seconds (time resolution = 2 seconds)"
   ]
  },
  {
   "cell_type": "markdown",
   "metadata": {},
   "source": [
    "So now we know that our data reflects activity from 2.7 x 2.7 x 3.97 mm voxels across 100 timepoints sampled at a time resolution of 700 milliseconds. Now, let's dig a little deeper into the data! But remember, we still have to load the actual data in memory. We can do that by the `get_fdata()` method. This method actually returns a numpy 4D-array we can work with!"
   ]
  },
  {
   "cell_type": "code",
   "execution_count": null,
   "metadata": {},
   "outputs": [],
   "source": [
    "func_data_in_memory = data.get_fdata()\n",
    "print(type(func_data_in_memory))  # this is in fact a numpy array!"
   ]
  },
  {
   "cell_type": "markdown",
   "metadata": {},
   "source": [
    "<div class='alert alert-warning'>\n",
    "<b>ToDo</b> (1 point)\n",
    "</div>\n",
    "From the variable `func_data_in_memory`, extract (i.e., index) all values (across time) from the voxel located at saggital slice number 30, coronal slice number 50, and axial slice number 23. Store these values in the variable `voxel_timeseries`, which should be of shape `(100,)`."
   ]
  },
  {
   "cell_type": "code",
   "execution_count": null,
   "metadata": {},
   "outputs": [],
   "source": [
    "# Implement the ToDo here (remember: Python's indexing is zero-based!)\n",
    "\n",
    "# your solution here\n"
   ]
  },
  {
   "cell_type": "code",
   "execution_count": null,
   "metadata": {},
   "outputs": [],
   "source": [
    "''' Tests the above ToDo. '''\n",
    "if 'voxel_timeseries' not in dir():\n",
    "    raise ValueError(\"Could not find any variable named 'voxel_timeseries'; did you spell it correctly?\")\n",
    "\n",
    "def test_extract_voxel_timeseries(funcdata, ans):\n",
    "\n",
    "    c_answer = funcdata[29, 49, 22, :]\n",
    "    try:\n",
    "        np.testing.assert_array_almost_equal(ans, c_answer, 4)\n",
    "    except AssertionError as e:\n",
    "        print(\n",
    "            \"Your answer is incorrect! Your answer was:\\n\\n%r\\n\\nBut I expected:\\n\\n%r\"\n",
    "            % (ans, c_answer)\n",
    "        )\n",
    "        raise (e)\n",
    "    else:\n",
    "        print(\"Well done!\")\n",
    "\n",
    "test_extract_voxel_timeseries(func_data_in_memory, voxel_timeseries)"
   ]
  },
  {
   "cell_type": "markdown",
   "metadata": {},
   "source": [
    "Let's look at some of the data! Because we have $80\\ (X) \\times\\ 80\\ (Y)\\times\\ 44\\ (Z)\\times\\ 100\\ (T) = 23680000$ values in total, let's not look at all data at once. We'll select a [axial](https://en.wikipedia.org/wiki/Anatomical_plane) slice somewhere in the middle of the brain of the first recorded volume (i.e. t = 1)."
   ]
  },
  {
   "cell_type": "code",
   "execution_count": null,
   "metadata": {},
   "outputs": [],
   "source": [
    "axial_slice_no = 18\n",
    "slice_1 = func_data_in_memory[:, :, axial_slice_no, 0] # the 0 refers to the first timepoint (t = 1)\n",
    "print(slice_1, '\\n')\n",
    "print('Shape of slice_1: %r' % list(slice_1.shape))"
   ]
  },
  {
   "cell_type": "markdown",
   "metadata": {},
   "source": [
    "Hmm, seems like nothing is going on! This is because Python doesn't print out the entire array, because that would clutter the notebook. Here, it is only plotting the first couple of rows and the last couple of rows from slice_1. The fact that we're only seeing zeros is because not all 28160000 values contain brain data! If a data point has value 0, it is very likely that this data point falls outside the recording of the brain.\n",
    "\n",
    "Let's check whether this is indeed the case. To visualize the entire slice, let's plot is using `imshow`:"
   ]
  },
  {
   "cell_type": "code",
   "execution_count": null,
   "metadata": {},
   "outputs": [],
   "source": [
    "plt.imshow(slice_1, cmap='gray')\n",
    "plt.axis('off')  # Do not plot the tickmarks of x-axis and y-axis\n",
    "plt.show()"
   ]
  },
  {
   "cell_type": "markdown",
   "metadata": {},
   "source": [
    "As you can see, only a part of the image is brain data, which is centered in the middle of the image. All completely black locations in the image are represented as zeros in the slice-data. Knowing this, let's select (slice) only a small part of some actual brain data, as visualized below:"
   ]
  },
  {
   "cell_type": "code",
   "execution_count": null,
   "metadata": {},
   "outputs": [],
   "source": [
    "import matplotlib.patches as patches\n",
    "\n",
    "print('We will select (index) the region indicated by red square:')\n",
    "rect = patches.Rectangle((35, 35), 5, 5, linewidth=2, edgecolor='r', facecolor='none')\n",
    "plt.imshow(slice_1, cmap='gray')\n",
    "ax = plt.gca()\n",
    "ax.add_patch(rect)\n",
    "plt.axis('off')\n",
    "plt.show()"
   ]
  },
  {
   "cell_type": "code",
   "execution_count": null,
   "metadata": {},
   "outputs": [],
   "source": [
    "# The data corresponding to the red square above\n",
    "print(slice_1[35:41, 35:41])"
   ]
  },
  {
   "cell_type": "markdown",
   "metadata": {},
   "source": [
    "What does this tell you? Well, fMRI data is simply a lot of numbers, with (relatively) higher numbers indicating (relatively) higher activity in functional MRI images.\n",
    "\n",
    "So far, we have only looked at some (static) representation of voxel activity of some voxels at one particular timepoint (i.e, $t = 1$, the first volume of the data), ignoring the time-dimension of our data. We can also look at the activity of a single voxel (e.g., $X = 35$, $Y = 35$, $Z=18$) across time.\n",
    "\n",
    "This basically amounts to indexing at these X/Y/Z coordinates! We'll show you what this entails conceptually in the code-block below, in which we show you that particular voxel at location X/Y/Z for the first 20 timepoints (not all 100, because that clutters the notebook too much):"
   ]
  },
  {
   "cell_type": "code",
   "execution_count": null,
   "metadata": {},
   "outputs": [],
   "source": [
    "volumes_to_plot = 20\n",
    "plt.figure(figsize=(30, 30))\n",
    "\n",
    "# Loop over the first 20 volumes/timepoints\n",
    "for t in range(volumes_to_plot):\n",
    "\n",
    "    plt.subplot(5, 5, (t+1))\n",
    "    plt.imshow(func_data_in_memory[:, :, axial_slice_no, t], cmap='gray')  # index with t!\n",
    "    rect = patches.Rectangle((35, 35), 1, 1, linewidth=1, edgecolor='r', facecolor='none')\n",
    "    ax = plt.gca()\n",
    "    ax.add_patch(rect)\n",
    "    plt.axis('off')\n",
    "    plt.title('t = %i' % (t + 1), fontsize=20)\n",
    "plt.show()"
   ]
  },
  {
   "cell_type": "markdown",
   "metadata": {},
   "source": [
    "It is really hard to spot whether the image of the slice is actually different between different time points! To the naked eye, it just seems like the same picture. This is because activity fluctations (over time) in fMRI are **very** small - most of the time just 1-3% compared to baseline (average) activity. That's why it's hard to spot activity differences by looking at the pictures alone.\n",
    "\n",
    "The activity fluctuations become clearer when you plot the activity of voxels across time in a linegraph (which allows you to see *relative* activity fluctuations better). So, let's plot the activity over time (t = 1:100) for the voxel within the red square in the figure above:"
   ]
  },
  {
   "cell_type": "code",
   "execution_count": null,
   "metadata": {},
   "outputs": [],
   "source": [
    "plt.plot(func_data_in_memory[35, 35, axial_slice_no, :])\n",
    "plt.title('Activity over time for voxel (35, 35, %i)' % axial_slice_no, fontsize=15)\n",
    "plt.xlabel('Time (t)', fontsize=15)\n",
    "plt.ylabel('Activity (arbitrary units)', fontsize=15)\n",
    "\n",
    "plt.show()"
   ]
  },
  {
   "cell_type": "markdown",
   "metadata": {},
   "source": [
    "<div class='alert alert-warning'>\n",
    "<b>ToDo</b> (3 points)\n",
    "</div>\n",
    "\n",
    "Let's practice some of the skills that you learned in this tutorial! For this ToDo, you goal is to **plot an histogram of the average activity value across time for all non-zero voxels in the brain**. So, what you have to do is the following:\n",
    "\n",
    "1. Average the `func_data_in_memory` variable across time (resulting array should by of shape (80, 80, 44)\n",
    "2. Remove all voxels which are zero (use boolean indexing!)\n",
    "3. Make a histogram of all the resulting non-zero voxels (use the argument `bins=100` in `plt.hist`)\n",
    "\n",
    "Do this in the code-cell below. Also, *give the plot sensible labels for the axes*. This is a manually graded ToDo, so there is no test-cell.\n",
    "\n",
    "The resulting histogram should show a \"bimodal distribution\" of average activity values - with a low peak and a high peak. "
   ]
  },
  {
   "cell_type": "code",
   "execution_count": null,
   "metadata": {},
   "outputs": [],
   "source": [
    "# Implement to ToDo here\n",
    "\n",
    "# your solution here\n"
   ]
  },
  {
   "cell_type": "markdown",
   "metadata": {},
   "source": [
    "Alright, that's it! "
   ]
  }
 ],
 "metadata": {
  "kernelspec": {
   "display_name": "neuro",
   "language": "python",
   "name": "python3"
  },
  "language_info": {
   "codemirror_mode": {
    "name": "ipython",
    "version": 3
   },
   "file_extension": ".py",
   "mimetype": "text/x-python",
   "name": "python",
   "nbconvert_exporter": "python",
   "pygments_lexer": "ipython3",
   "version": "3.11.6"
  }
 },
 "nbformat": 4,
 "nbformat_minor": 2
}
