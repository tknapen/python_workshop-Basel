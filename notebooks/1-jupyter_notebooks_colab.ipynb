{
 "cells": [
  {
   "cell_type": "markdown",
   "metadata": {},
   "source": [
    "# Python, numpy, and Nifti-images\n",
    "\n",
    "This tutorial will teach you the programming language Python, one of the most-used programming languages today. We will focus on how to use it for psychology/neuroimaging research and analysis. First, we will introduce the interface you're viewing this in: the jupyter notebook, as worked on in Google colaboratory. This is a web-based interface that allows you to write and run Python code in a very user-friendly way.\n",
    "\n",
    "We start with a quite extensive intro of basic Python syntax and constructs; this should be fast for students who are already somewhat experienced/comfortable with programming (e.g., from previous experience with other programming languages). If you're *not* comfortable with programming, or you notice during this tutorial that you get stuck often then this part is most important for you during these few days. For reference, you can always take more time afterwards and work through the [Codecademy Python Course](https://www.codecademy.com/learn/python). You *don't* have to do the quizzes (because you need to pay for that).\n",
    "\n",
    "After have learned the basics of Python in this tutorial, 'numpy' (Python's scientific computing package) is discussed and explained and followed by a section on 'Matplotlib' (Python's most standard plotting package). Finally, as a 'bonus' part that shows you how to use packages created by other researchers, this tutorial ends with a section on how to interact with Nifti-files - the file format used by most (MRI) neuroimaging data.\n"
   ]
  },
  {
   "cell_type": "markdown",
   "metadata": {},
   "source": [
    "## What this course is about\n",
    "\n",
    "At the end of this course, you are able to implement any computation/routine necessary for basic fMRI analysis using a combination of basic Python and Numpy.\n",
    "\n",
    "### Contents:\n",
    "\n",
    "1. Jupyter notebooks (this notebook, # 1)\n",
    "2. [General Python (notebook # 2)](2-python_basics.ipynb)\n",
    "3. [Numpy (notebook # 3)](3-numpy.ipynb)\n",
    "4. [Matplotlib / plotting (notebook # 4))](4-matplotlib_MRI.ipynb) \n",
    "5. [Analysis and plotting with `pandas` and `seaborn` (notebook # 5))](5-pandas_seaborn.ipynb) \n",
    "\n",
    "But before anything else, let's get more familiar with the Jupyter notebook environment!"
   ]
  },
  {
   "cell_type": "markdown",
   "metadata": {},
   "source": [
    "## 1. Jupyter Notebooks\n",
    "\n",
    "So, what are Jupyter notebooks, actually? Basically, using Jupyter notebooks is like using the web-browser as a kind of editor from which you can run Python code, similar to the MATLAB interactive editor or RStudio. The cool thing about these notebooks is that they allow you to mix code \"cells\" (see below) and text \"cells\" (such as this one). The (printed) output from code blocks are displayed right below the code blocks themselves. \n",
    "\n",
    "Jupyter notebooks have two **modes**: edit mode and command mode.\n",
    "\n",
    "- *Command mode* is indicated by a grey cell border with a blue left margin (as is the case now!): When you are in command mode, you are able to edit the notebook as a whole, but not type into individual cells. Most importantly, in command mode, the keyboard is mapped to a set of shortcuts that let you perform notebook and cell actions efficiently (some shortcuts in command mode will be discussed later!). Enter command mode by pressing **Esc** or using the mouse to click outside a cell’s editor area; <br><br>\n",
    "- *Edit mode* is indicated by a green cell border and a prompt showing in the editor area: When a cell is in edit mode, you can type into the cell, like a normal text editor. Enter edit mode by pressing Enter or using the mouse to double-click on a cell’s editor area.\n",
    "\n",
    "When you're reading and scrolling through the tutorials, you'll be in the command mode mostly. But once you have to program (or write) stuff yourself, you have to switch to edit mode. But we'll get to that. First, we'll explain something about the two types of cells: code cells and text cells."
   ]
  },
  {
   "cell_type": "markdown",
   "metadata": {},
   "source": [
    "### 1.1. Code cells\n",
    "\n",
    "Code cells are the place to write your Python code, similar to MATLAB 'code sections' (which are usually deliniated by %%). Importantly, unlike the interactive editors in RStudio and MATLAB, a code cell in Jupyter notebooks can only be run all at once. This means you cannot run it line-by-line, but you have to run the entire cell!\n",
    "\n",
    "#### 1.1.1. Running cells\n",
    "Let's look at an example. Below, you see a code-cell with two print-statements. To run the cell, select it (i.e., the cell should have a green or blue frame around it; doesn't matter whether you're in edit or command mode), and click on the \"&#9654; `Run`\" icon or press `ctr+Enter`). Try it with the cell below!\n",
    "\n",
    "You can also try it with the cell way at the top where you entered your name and student number..."
   ]
  },
  {
   "cell_type": "code",
   "execution_count": null,
   "metadata": {},
   "outputs": [],
   "source": [
    "print(\"I'm printing Python code\")\n",
    "print(3 + 3)"
   ]
  },
  {
   "cell_type": "markdown",
   "metadata": {},
   "source": [
    "#### 1.1.2. Stop running/execution of cells\n",
    "Sometimes, you might want to quit the execution of a code-cell because it's taking too long (or worse, you created an infinite loop!). To do so, click the stop icon &#9632; to the left of the cell!, or choose \"interrupt execution\" from the \"Runtime\" menu. "
   ]
  },
  {
   "cell_type": "markdown",
   "metadata": {},
   "source": [
    "#### 1.1.3. Restarting the kernel\n",
    "Sometimes, you accidentally 'crash' the notebook, for example when creating an infinite loop or when loading in too much data. You know your notebook 'crashed' when stopping the cell (&#9632;) does not work and your cell continues its execution, as evident by the spinning circle prompt next to the cell. In those cases, you may need to completely restart the notebook, or in programming lingo: you need to \"restart the kernel\". To do so, click the \"Runtime\" menu then choose `Restart session`.\n",
    "\n",
    "Importantly, when you restart the kernel, it will keep all text/code that you've written, but it will **not** remember all the variables that you defined before restarting the kernel, including the imports. So if you restart the kernel, you will have to re-import everything (e.g. run `import numpy as np` again).\n",
    "\n",
    "In th  \"Runtime\" menu, you will also find a bunch of other things that can come in handy, such as the ability to run the entire notebook at once, or everything before the selected cell, etc."
   ]
  },
  {
   "cell_type": "markdown",
   "metadata": {},
   "source": [
    "#### 1.1.3. Inserting cells\n",
    "As you can see in the code cell above, you can only run the entire cell (i.e. both print statements). Sometimes, of course, you'd like to organise code across multiple cells. To do this, you can simply add new blocks (cells) by selecting \"Insert --> Code Cell\" in the \"Insert\" menu, or pressing the \"+ Code\" button at the top. This will insert a new code cell below the cell you have currently highlighted (the currently highlighted cell has a blue box around it). \n",
    "\n",
    "Try inserting a cell below and write some code (e.g. `print(10 * 10)`)."
   ]
  },
  {
   "cell_type": "markdown",
   "metadata": {},
   "source": [
    "#### 1.1.4. Inline plotting\n",
    "Another cool feature of Jupyter notebooks is that you can display figures in the same notebook! You simply define some plots in a code cell and it'll output the plot below it. We'll talk more about plotting later, but for now, let's just show you how it works.\n",
    "\n",
    "Check it out by executing (click the \"play\" button or ctr+Enter) the next cell."
   ]
  },
  {
   "cell_type": "code",
   "execution_count": null,
   "metadata": {},
   "outputs": [],
   "source": [
    "# We'll get to what the code means later in the tutorial\n",
    "import matplotlib.pyplot as plt # The plotting package 'Matplotlib' is discussed in section 3!\n",
    "\n",
    "# This command makes sure that the figure is plotted in the notebook instead of in a separate window!\n",
    "%matplotlib inline\n",
    "\n",
    "# Now, let's plot something\n",
    "plt.plot(range(10))\n",
    "plt.show()"
   ]
  },
  {
   "cell_type": "markdown",
   "metadata": {},
   "source": [
    "### 1.2. Text ('markdown') cells\n",
    "Next to code cells, jupyter notebooks allow you to write text in so-called \"markdown cells\" (the cell this text is written in is, obviously, also a markdown cell). Markdown cells accept plain text and can be formatted by special markdown-syntax. A couple of examples:\n",
    "\n",
    "\\# One hash creates a large heading <br>\n",
    "\\#\\# Two hashes creates a slightly smaller heading (this goes up to four hashes)\n",
    "\n",
    "Bold text can be created by enclosing text in \\*\\*double asterisks\\*\\* and italicized text can be created by enclosing text in \\*single asterisks\\*. Lists are made by starting a line with a dash (-) or a number followed by a dot (1.), like so:\n",
    "\n",
    "1. **First item**\n",
    "2. *Second item*\n",
    "\n",
    "or an unordered list, in which we can play with the indentation:\n",
    "\n",
    "- First item <br>\n",
    "  - Subitem 1 <br>\n",
    "  - Subitem 2 <br>\n",
    "\n",
    "You can even include URLs and insert images from the web; check this [link](https://github.com/adam-p/markdown-here/wiki/Markdown-Cheatsheet) for a cheatsheet with markdown syntax and options! All the special markdown-syntax and options will be converted to readable text *after running the text cell* (again, by pressing the \"play\" icon in the toolbar or by shift/ctrl+Enter).\n",
    "\n",
    "To insert a text (markdown) cell, insert a new cell (\"Insert --> Text Cell\"). You can also convert a code cell to a markdown cell, if that's what you want.\n",
    "\n",
    "Try it below! Insert a new markdown cell and try to write the following:\n",
    "\n",
    "\"**OMG**, this is the most awesome Python tutorial *ever*.\""
   ]
  },
  {
   "cell_type": "markdown",
   "metadata": {},
   "source": [
    "### 1.3. Getting help\n",
    "Throughout this course, you'll encounter situations in which you have to use functions that you'd like to get some more information on, e.g. which inputs it expects. To get help on any python function you'd like to use, you can simply write the function-name appended with a \"?\" and run the cell. This will open a window below with the \"docstring\" (explanation of the function). Take for example the built-in function **`len()`**. To get some more information, simply type `len?` in a code cell and run the cell.\n",
    "\n",
    "Try it out yourself: create a code cell below, type `len?` and check the output!"
   ]
  },
  {
   "cell_type": "markdown",
   "metadata": {},
   "source": [
    "If this method (i.e. appending with \"?\") does not give you enough information, try to google the name of the function together with 'python' and, if you know from which package the function comes, the name of that package. For instance, for len() you could google: ['python len()'](http://lmgtfy.com/?q=python+len), or later when you'll use the numpy package, and you'd like to know how the `numpy.arange` function works you could google: 'python numpy arange'. \n",
    "\n",
    "** REMEMBER: Google is your friend! Please try to google things first, before you ask your classmates and your tutors! ** This is not just for us to save time, but also for you to learn how to find information yourself. This is a very useful skill to have!\n",
    "\n",
    "The online python community is huge, so someone definitely already wondered about something you might be struggling with."
   ]
  },
  {
   "cell_type": "markdown",
   "metadata": {},
   "source": [
    "### 1.4. Saving your work & closing down the notebook\n",
    "You're running and actively editing the notebook in a browser, but remember that it's still just a file located on a Google Drive the server (or GitHub repository) (that you're accessing through Google Colaboratory). Therefore, for your work to persist, you need to save the notebook once in a while (and definitely before closing the notebook). To save, simply press the floppy-disk image in the top-left (or do ctr+s). If you want to close your notebook, simply close the browser. \n",
    "\n",
    "Alright. Now that you've had your first contact with Jupyter notebooks on Google Colab - let's talk about about exercises and assignments."
   ]
  },
  {
   "cell_type": "markdown",
   "metadata": {},
   "source": [
    "## A note on exercises (ToDo/ToThink) and assignments\n",
    "You'll encounter different types of exercises throughout the notebook, being:\n",
    "\n",
    "- <font color='orange'>ToDos</font> : short programming exercises, either zero or for a few points\n",
    "- <font color='blue'>ToThinks</font>: questions about the (preceding) text/material, either zero or for a few points\n",
    "- <font color='red'>Assignments</font>: a larger programming exercise (sometimes with additional questions), usually for a larger amount of points\n",
    "\n",
    "We highly recommend doing/answering the ToDos/ToThinks, not only because they are worth points (we won't be grading anything!!), but also because they are designed to improve your understanding of the material!\n",
    "\n",
    "The 'points' associated with specific ToDos or ToThinks is just an indication of the relative difficulty of the exercise. It's not a hard rule, but it should give you an idea of how much time you should spend on it.\n",
    "\n",
    "Anyway, a \"ToDo\" would look something like this:"
   ]
  },
  {
   "cell_type": "markdown",
   "metadata": {},
   "source": [
    "<div class=\"alert alert-warning\">\n",
    "<b>ToDo</b> (0 points)\n",
    "</div>\n",
    "In the code-cell below, set the variable `x` to 5 and remove the `raise AssertionError` statement below."
   ]
  },
  {
   "cell_type": "code",
   "execution_count": null,
   "metadata": {},
   "outputs": [],
   "source": [
    "x = 'not yet 5'"
   ]
  },
  {
   "cell_type": "markdown",
   "metadata": {},
   "source": [
    "Then, *after* each code-cell corresponding to the ToDo, there are one or more code-cell(s) with \"tests\" written by us. These tests may provide you with feedback about whether you implemented the \"ToDo\" correctly, and optionally gives you some hints on how to solve your error(s). If you run this cell and you don't get any errors, you did it correctly. If it gives any errors, try to use the information from the error and/or print statements to solve the ToDo. \n",
    "\n",
    "These tests are usually implemented as a set of `assert` statements, which 'assert' whether a specific statement is true. If it evaluates to `False`, then that means you've made an error. For example, for the above `ToDo`, we simply evaluated the statement `assert(x == 5)` to check whether you set `x` to 5 correctly, as is shown in the cell below:"
   ]
  },
  {
   "cell_type": "code",
   "execution_count": null,
   "metadata": {},
   "outputs": [],
   "source": [
    "''' Checks whether the above ToDo is correct. '''\n",
    "try:\n",
    "    assert(x == 5)\n",
    "except AssertionError as e:\n",
    "    print(\"x does not evaluate to 5! Did you replace 'not yet 5' with 5?\")\n",
    "    raise(e)\n",
    "else:\n",
    "    print(\"Well done!\")"
   ]
  },
  {
   "cell_type": "markdown",
   "metadata": {},
   "source": [
    "**Note**: each *ToDo* is explicitly tested, so you can always check your answer (and continue trying until you get it right). "
   ]
  },
  {
   "cell_type": "markdown",
   "metadata": {},
   "source": [
    "Now, let's try another one, but this time for real! It's a super simple one, so use this to earn a free point. Note that it is followed by two test-cells, which test different aspects of your implementation (each passed test gives you 0.5 points)."
   ]
  },
  {
   "cell_type": "markdown",
   "metadata": {},
   "source": [
    "<div class=\"alert alert-warning\">\n",
    "<b>ToDo</b> (1 point)\n",
    "</div>\n",
    "In the code-cell below, set the variable `y` to `x * 2`, so you have to replace `None` with `x * 2` (yes, this is as easy as it sounds)."
   ]
  },
  {
   "cell_type": "code",
   "execution_count": null,
   "metadata": {},
   "outputs": [],
   "source": [
    "x = 2\n",
    "y = None"
   ]
  },
  {
   "cell_type": "code",
   "execution_count": null,
   "metadata": {},
   "outputs": [],
   "source": [
    "''' This tests the above ToDo. '''\n",
    "try:\n",
    "    assert(y == x * 2)\n",
    "except AssertionError as e:\n",
    "    print(\"y does not evaluate to x * 2 (i.e., 4)! Did you replace y with x * 2?\")\n",
    "    raise(e)\n",
    "else:\n",
    "    print(\"Well done!\")"
   ]
  },
  {
   "cell_type": "code",
   "execution_count": null,
   "metadata": {},
   "outputs": [],
   "source": [
    "''' This tests the above ToDo as well. '''\n",
    "try:\n",
    "    assert(isinstance(y, int))\n",
    "except AssertionError as e:\n",
    "    print(\"y doesn't seem to be an integer (it is of type %s; make sure it is!\" % (type(y)))\n",
    "    raise(e)\n",
    "else:\n",
    "    print(\"Well done!\")"
   ]
  },
  {
   "cell_type": "markdown",
   "metadata": {},
   "source": [
    "Throughout the notebook you'll encounter several 'ToDos' - some are worth points, some don't. In addition to these 'ToDos', you'll also encounter 'ToThinks', which are short questions about the material, meant to make you think about what you're doing. Like the 'ToDos', some of these are worth points, others don't. Each 'ToThink' cell is followed by a markdown-cell in which you can write your answer. Obviously, these answers cannot be automatically tested, so there won't be a test-cell with `asserts`. These 'ToThinks' are later (by us) graded manually. \n",
    "\n",
    "A typical 'ToThink' may look like this:  "
   ]
  },
  {
   "cell_type": "markdown",
   "metadata": {},
   "source": [
    "<div class='alert alert-info'>\n",
    "<b>ToThink</b> (1 point)\n",
    "</div>\n",
    "What's your name? Please write it in the text-cell below."
   ]
  },
  {
   "cell_type": "markdown",
   "metadata": {},
   "source": [
    "Tomas Knapen"
   ]
  },
  {
   "cell_type": "markdown",
   "metadata": {},
   "source": [
    "Next to 'ToDos' and 'ToThinks', there are Assignments. These are basically just a collection of programming exercises and/or open questions, each with a certain amount of points associated with it. You'll encounter assignments usually at the end of a specific section. Usually, altogether these assignments are worth substantially more points than 'ToDos' or 'ToThinks'. \n",
    "\n",
    "An assigment may look like this:"
   ]
  },
  {
   "cell_type": "markdown",
   "metadata": {},
   "source": [
    "<div class='alert alert-danger'>\n",
    "<b>Assignment</b> (5 points)\n",
    "</div>\n",
    "This is an example assignment; it's not actually worth any points. In a real assignment, you would see one or more coding assignments or open questions below. "
   ]
  },
  {
   "cell_type": "markdown",
   "metadata": {},
   "source": [
    "Alright, by now you should known enough to start with notebook 2: basic Python syntax! "
   ]
  },
  {
   "cell_type": "markdown",
   "metadata": {},
   "source": []
  }
 ],
 "metadata": {
  "language_info": {
   "name": "python"
  }
 },
 "nbformat": 4,
 "nbformat_minor": 2
}
