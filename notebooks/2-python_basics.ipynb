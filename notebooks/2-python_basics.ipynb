{
 "cells": [
  {
   "cell_type": "markdown",
   "metadata": {},
   "source": [
    "## 1. General Python\n",
    "This section will provide a tutorial on basic Python syntax and concepts (if you have Python experience, this should all be familiar).\n",
    "\n",
    "Here, we will cover:\n",
    "\n",
    "* Python data types (integers, floats, lists, dictionaries)\n",
    "* Python functions\n",
    "* Python classes\n",
    "* Conditionals (if-then-else)\n",
    "* Loops (for-loop, list-comprehensions)\n",
    "* Imports"
   ]
  },
  {
   "cell_type": "markdown",
   "metadata": {},
   "source": [
    "### 1.1. Structure of Python\n",
    "\n",
    "Python is a multipurpose programming language, meaning it can be used for almost anything. While R is mostly used for statistics, and php is used for web programming only, Python is a general language, specified by the packages you add on to it (using import statements). So, \"pure\" Python provides some basic functionality, but Python's versatility comes from specialized packages for almost any purpose. \n",
    "\n",
    "For example:\n",
    "* the [scipy](https://www.scipy.org/) package provides functionality for scientific computing (e.g. statistics, signal processing);\n",
    "* the [numpy](http://www.numpy.org/) package provides data structures and functionality for (very fast) numeric computing (e.g. multidimensional numeric array computations, some linear algebra);\n",
    "* the [matplotlib](http://matplotlib.org/) package provides plotting functions;\n",
    "* and various specialied neuroimaging packages provide functionality to work and analyze (f)MRI (e.g. [nibabel](http://nipy.org/nibabel/) and [nipype](http://nipy.org/nipype)) and MEG/EEG (e.g. [MNE](http://www.martinos.org/mne/stable/index.html)).\n",
    "\n",
    "Basically, there are packages for everything you can think of (also: creating websites, game programming, etc.)! In this course, we will mostly use basic Python in combination with the scientific computing packages ('numpy', 'scipy') and specialized neuroimaging packages ('nibabel', 'nipype').  "
   ]
  },
  {
   "cell_type": "markdown",
   "metadata": {},
   "source": [
    "#### Import statements\n",
    "As explained above, Python ships with some default functionality. This means that it's already available upon starting a notebook (or any other Python environment) and doesn't need to be imported. An example is the function `len()`."
   ]
  },
  {
   "cell_type": "code",
   "execution_count": null,
   "metadata": {},
   "outputs": [],
   "source": [
    "my_list = [1, 2, 3]\n",
    "print(len(my_list))"
   ]
  },
  {
   "cell_type": "markdown",
   "metadata": {},
   "source": [
    "However, non-built-in packages - such as `numpy` - need to be explicitly imported to access their functionality. After importing, their functions are accessible as: `{package}.{function}`.\n",
    "\n",
    "For example:"
   ]
  },
  {
   "cell_type": "code",
   "execution_count": null,
   "metadata": {},
   "outputs": [],
   "source": [
    "import numpy\n",
    "\n",
    "# Now you can access the numpy function `add()` as numpy.add()\n",
    "print(numpy.add(5, 3))"
   ]
  },
  {
   "cell_type": "markdown",
   "metadata": {},
   "source": [
    "However, writing `numpy` in front of every function you access from it becomes annoying very quickly. Therefore, we usually abbreviate the package name by two or three characters, which can be achieved through:\n",
    "\n",
    "`import {package} as {abbreviation}` \n",
    "\n",
    "For example, people usually abbreviate the numpy import as:"
   ]
  },
  {
   "cell_type": "code",
   "execution_count": null,
   "metadata": {},
   "outputs": [],
   "source": [
    "import numpy as np\n",
    "\n",
    "# Now you can access numpy functions such as 'add()' as:\n",
    "print(np.add(5, 3))"
   ]
  },
  {
   "cell_type": "markdown",
   "metadata": {},
   "source": [
    "Throughout the tutorials, you'll see different packages (e.g. nibabel and scipy) being imported using abbreviations. \n",
    "\n",
    "Also, you don't need to import an *entire* package, but you can also import a specific function or class. This is done as follows:\n",
    "\n",
    "`from {package} import {function1}, {function2}, {etc}`\n",
    "\n",
    "An example:"
   ]
  },
  {
   "cell_type": "code",
   "execution_count": null,
   "metadata": {},
   "outputs": [],
   "source": [
    "from numpy import add, subtract\n",
    "\n",
    "# Now I can simply call add() and subtract()\n",
    "print(add(5, 3))"
   ]
  },
  {
   "cell_type": "markdown",
   "metadata": {},
   "source": [
    "Note that some packages have a hierarchical structure with subpackages (also called modules). For example, scipy has a subpackage `ndimage` (with functions for n-dimensional arrays). To import *only* this subpackage, do the following:"
   ]
  },
  {
   "cell_type": "code",
   "execution_count": null,
   "metadata": {},
   "outputs": [],
   "source": [
    "from scipy import ndimage\n",
    "# Now you can call functions from the ndimage subpackage,\n",
    "# e.g. gaussian_filter\n",
    "\n",
    "print(ndimage.gaussian_filter([10, 5, 4], 2))"
   ]
  },
  {
   "cell_type": "markdown",
   "metadata": {},
   "source": [
    "Note that you can mix and match all of these operations to customize the import to your own liking (see cell below for such a fancy import). In this course, we'll usually just import entire packages (e.g. `import numpy as np`) or specific functions/subpackages (e.g. `from scipy import stats`). "
   ]
  },
  {
   "cell_type": "code",
   "execution_count": null,
   "metadata": {},
   "outputs": [],
   "source": [
    "# a fancy import\n",
    "from scipy.stats import binom_test as omg_binomial_testing_so_cool\n",
    "\n",
    "print(omg_binomial_testing_so_cool(0.5, 10))"
   ]
  },
  {
   "cell_type": "markdown",
   "metadata": {},
   "source": [
    "<div class=\"alert alert-warning\">\n",
    "<b>ToDo</b> (1 point)\n",
    "</div>\n",
    "\n",
    "Import the function \"randn\" from the numpy subpackage \"random\" and rename it \"random_normal_generator\"."
   ]
  },
  {
   "cell_type": "code",
   "execution_count": null,
   "metadata": {},
   "outputs": [],
   "source": [
    "''' Tests the above ToDo. '''\n",
    "try:\n",
    "    assert('random_normal_generator' in dir())\n",
    "except AssertionError as e:\n",
    "    print(\"I couldn't find the function 'random_normal_generator'; did you spell it correctly?\")\n",
    "    raise(e)\n",
    "else:\n",
    "    print(\"Well done!\")"
   ]
  },
  {
   "cell_type": "code",
   "execution_count": null,
   "metadata": {},
   "outputs": [],
   "source": [
    "''' Another test for the above ToDo. '''\n",
    "try:\n",
    "    assert(random_normal_generator.__name__ == 'randn')\n",
    "except AssertionError as e:\n",
    "    print(\"Your 'random_normal_generator' function does not point to the 'randn' numpy.random subpackage!\")\n",
    "    raise(e)\n",
    "else:\n",
    "    print(\"Well done!\")"
   ]
  },
  {
   "cell_type": "markdown",
   "metadata": {},
   "source": [
    "#### Whitespace for indentation\n",
    "In most programming languages, code blocks (e.g., if-else blocks, or for-loops) are delineated by dedicated symbols (often curly brackets, `{}`). For example, an if-else block in R is written like this:\n",
    "\n",
    "```\n",
    "if (x > 0) {\n",
    "   y = x + 5\n",
    "} else {\n",
    "   y = x - 5\n",
    "}\n",
    "```\n",
    "\n",
    "While in languages like R and MATLAB whitespace/indentation is used for readability, it is not necessary! The above if-else statement in R can also be written as:\n",
    "\n",
    "```\n",
    "if (x > 0) { y = x + 5 } else { y = x - 5 }\n",
    "```\n",
    "\n",
    "However, in Python, whitespace and indentation is important! In Python, indendation - instead of curly braces - delineates code blocks, and if code is incorrectly indented, Python will give an error! For example, an if-else statement in Python must be indented (always with 4 spaces or a tab). If you don't do this, it will give an error, as show below:"
   ]
  },
  {
   "cell_type": "code",
   "execution_count": null,
   "metadata": {},
   "outputs": [],
   "source": [
    "x = 0\n",
    "if x < 0:\n",
    "y = x + 5\n",
    "else:\n",
    "y = x - 5"
   ]
  },
  {
   "cell_type": "markdown",
   "metadata": {},
   "source": [
    "If you make sure the two statements beginning with `y = ...` are indented with 4 spaces/a tab, the error disappears (try it yourself!)."
   ]
  },
  {
   "cell_type": "markdown",
   "metadata": {},
   "source": [
    "#### Python versions\n",
    "As a side note: there are currently two different supported versions of Python, 2.7 and 3.6. Somewhat confusingly, Python 3.0 introduced many backwards-incompatible changes to the language, so code written for 2.7 may not work under 3.x and vice versa. For this class all code will likely (depending on what Google implements in Colab) use Python **3.11** (but 90% of this notebook should be compatible with Python 2.7., we think ...). So if you want to use code from this class on your own computer, make sure you use Python 3.11!"
   ]
  },
  {
   "cell_type": "markdown",
   "metadata": {},
   "source": [
    "### 1.2 Basic data types\n",
    "\"Pure\" (i.e. built-in) Python has mostly the same data types as you might know from MATLAB or R, such as numbers (integers/floats), strings, and lists (cells in MATLAB; lists in R). Also, Python has to data types that might be unknown to MATLAB/R users, such as \"dictionaries\" and \"tuples\", which are explained later. "
   ]
  },
  {
   "cell_type": "markdown",
   "metadata": {},
   "source": [
    "#### Numbers\n",
    "Numbers are represented either as integers (\"whole\" numbers) or floats (numbers with decimals, basically)."
   ]
  },
  {
   "cell_type": "code",
   "execution_count": null,
   "metadata": {},
   "outputs": [],
   "source": [
    "x = 3\n",
    "print(x, type(x)) # use type(variable) to find out of what data-type something is!\n",
    "\n",
    "y = 3.15\n",
    "print(y, type(y))"
   ]
  },
  {
   "cell_type": "markdown",
   "metadata": {},
   "source": [
    "Let's try to apply arithmetic to x as defined above with some basic operations:"
   ]
  },
  {
   "cell_type": "code",
   "execution_count": null,
   "metadata": {},
   "outputs": [],
   "source": [
    "print(x + 1)   # Addition;\n",
    "print(x - 1)   # Subtraction;\n",
    "print(x / 2)   # Division;\n",
    "print(x * 2)   # Multiplication;\n",
    "print(x ** 2)  # Exponentiation;"
   ]
  },
  {
   "cell_type": "markdown",
   "metadata": {},
   "source": [
    "The above commands apply operations to x, but do not *change* x itself. To permanently change x, you have to store the results of the operation (e.g. `x + 1`) into a variable (e.g. `x2 = x + 1`), as shown in the cell below:"
   ]
  },
  {
   "cell_type": "code",
   "execution_count": null,
   "metadata": {},
   "outputs": [],
   "source": [
    "x = 3\n",
    "x_new = x + 2\n",
    "\n",
    "# If you simply want to update an existing variable, you can do this in two ways:\n",
    "x = x + 1\n",
    "\n",
    "# ... or:\n",
    "x += 1\n",
    "\n",
    "print(x)\n",
    "\n",
    "x *= 2 # This is the same as: x = x * 2\n",
    "print(x)"
   ]
  },
  {
   "cell_type": "markdown",
   "metadata": {},
   "source": [
    "<div class=\"alert alert-warning\">\n",
    "<b>ToDo</b> (1 point) \n",
    "</div>\n",
    "\n",
    "In the cell below, make a new variable, `y`, which should contain x minus 5 and subsequently raised to the 4th power. "
   ]
  },
  {
   "cell_type": "code",
   "execution_count": null,
   "metadata": {},
   "outputs": [],
   "source": [
    "x = 8\n",
    "# your solution here\n"
   ]
  },
  {
   "cell_type": "code",
   "execution_count": null,
   "metadata": {},
   "outputs": [],
   "source": [
    "''' Tests the above ToDo.'''\n",
    "\n",
    "# Check if there exists a variable 'y'\n",
    "try:\n",
    "    assert('y' in dir())\n",
    "except AssertionError as e:\n",
    "    print(\"The variable 'y' doesn't seem to exist! Did you name it correctly?\")\n",
    "    raise(e)\n",
    "else:\n",
    "    print(\"Well done! 1 out of tests 2 passed\")\n",
    "\n",
    "# Check if it has the correct number\n",
    "try:\n",
    "    assert(y == 81)\n",
    "except AssertionError as e:\n",
    "    print(\"The variable y does not seem to equal x minus 5, raise to the power 4.\")\n",
    "    raise(e)\n",
    "else:\n",
    "    print(\"Well done! 2 out of tests 2 passed\")"
   ]
  },
  {
   "cell_type": "markdown",
   "metadata": {},
   "source": [
    "#### Booleans\n",
    "Python implements all of the usual operators for comparisons. Similar to what you might know from other languages, '==' tests equivalence, '!=' for not equivalent, and '<' and '>' for larger/smaller than.\n",
    "\n",
    "Check out some examples below:"
   ]
  },
  {
   "cell_type": "code",
   "execution_count": null,
   "metadata": {},
   "outputs": [],
   "source": [
    "a = 3\n",
    "b = 5\n",
    "is_a_equal_to_b = a == b\n",
    "\n",
    "print(is_a_equal_to_b)\n",
    "print(type(is_a_equal_to_b))"
   ]
  },
  {
   "cell_type": "markdown",
   "metadata": {},
   "source": [
    "However, for Boolean logic, python doesn't use operators (such as && for \"and\" and | for \"or\") but uses special (regular English) **words**: "
   ]
  },
  {
   "cell_type": "code",
   "execution_count": null,
   "metadata": {},
   "outputs": [],
   "source": [
    "bool_1 = 3 > 5 # False, because 3 is not greater than 5\n",
    "bool_2 = 5 == 5 # True, because, well, 5 is 5\n",
    "\n",
    "print(bool_1 and bool_2)  # Logical AND, both have to be True\n",
    "print(bool_1 or bool_2)   # Logical OR, either one of them has to be True\n",
    "print(not bool_1)         # Logical NOT, the inverse of bool_1\n",
    "print(bool_1 != bool_2)   # Logical XOR, yields True when bool_1 and bool_2 are not equal"
   ]
  },
  {
   "cell_type": "markdown",
   "metadata": {},
   "source": [
    "<div class='alert alert-warning'>\n",
    "<b>ToDo</b> (0 points)\n",
    "</div>\n",
    "Mess around with booleans in the cell below. Try some more complex things, like: `not ((3 > 5) and not (5 < 2))`. \n",
    "Do you understand why the result is the way it is? Try to follow the logic in the sequence of statements (not graded, so no tests follow the code block)."
   ]
  },
  {
   "cell_type": "code",
   "execution_count": null,
   "metadata": {},
   "outputs": [],
   "source": [
    "# Do your ToDo here:\n"
   ]
  },
  {
   "cell_type": "markdown",
   "metadata": {},
   "source": [
    "#### Strings\n",
    "Strings in Python are largely the same as in other languages."
   ]
  },
  {
   "cell_type": "code",
   "execution_count": null,
   "metadata": {},
   "outputs": [],
   "source": [
    "h = 'hello'   # String literals can use single quotes\n",
    "w = \"world\"   # or double quotes; it does not matter.\n",
    "\n",
    "print(h)\n",
    "print(len(h))  # see how many characters in this string"
   ]
  },
  {
   "cell_type": "markdown",
   "metadata": {},
   "source": [
    "A very nice feature of Python strings is that they are easy to concatenate: just use '+'!"
   ]
  },
  {
   "cell_type": "code",
   "execution_count": null,
   "metadata": {},
   "outputs": [],
   "source": [
    "hw = h + ', ' + w + '!' # String concatenation\n",
    "print(hw)"
   ]
  },
  {
   "cell_type": "markdown",
   "metadata": {},
   "source": [
    "You can also create and combine strings with what is called 'string formatting'. This is accomplished by inserting a placeholder in a string, that you can fill with variables. An example is given below:"
   ]
  },
  {
   "cell_type": "code",
   "execution_count": null,
   "metadata": {},
   "outputs": [],
   "source": [
    "# Here, we have a string with a placeholder '%s' (the 's' refers to 'string' placeholder)\n",
    "my_string = 'My favorite programming language is: %s'\n",
    "print('Before formatting:')\n",
    "print(my_string)\n",
    "\n",
    "# Now, to 'fill' the placeholder, do the following:\n",
    "my_fav_language = 'Python'\n",
    "my_string = 'My favorite programming language is: %s' % my_fav_language\n",
    "\n",
    "print('After formatting')\n",
    "print(my_string)"
   ]
  },
  {
   "cell_type": "markdown",
   "metadata": {},
   "source": [
    "You can also use specific placeholders for different data types:"
   ]
  },
  {
   "cell_type": "code",
   "execution_count": null,
   "metadata": {},
   "outputs": [],
   "source": [
    "week_no = 1 # integer\n",
    "string1 = 'This is week %i of neuroimaging' % week_no # the %i expects an integer!\n",
    "print(string1)\n",
    "\n",
    "project_score = 99.50 # float\n",
    "string2 = 'I will get a %f on my midterm exam!' % project_score\n",
    "print(string2)\n",
    "\n",
    "# You can also combine different types in a string:\n",
    "string3 = 'In week %i of neuroimaging, %s will get a %f for my lab-assignment' % (week_no, \"I\", 95.00)\n",
    "print(string3)"
   ]
  },
  {
   "cell_type": "markdown",
   "metadata": {},
   "source": [
    "For a full list of placeholders see https://docs.python.org/2/library/stdtypes.html#string-formatting-operations"
   ]
  },
  {
   "cell_type": "markdown",
   "metadata": {},
   "source": [
    "<div class='alert alert-warning'>\n",
    "<b>ToDo</b> (1 point)\n",
    "</div>\n",
    "Using the variable `to_print` defined below, print the string:\n",
    "\n",
    "\"This will be my favorite course 4ever\"\n",
    "\n",
    "So you'll have to \"fill\" the \"%\" placeholders using string formatting."
   ]
  },
  {
   "cell_type": "code",
   "execution_count": null,
   "metadata": {},
   "outputs": [],
   "source": [
    "to_print = \"%s will be my favorite course %iever\"\n",
    "# print the to_print variable, with the appropriate string formatters!\n"
   ]
  },
  {
   "cell_type": "markdown",
   "metadata": {},
   "source": [
    "#### f-strings\n",
    "\n",
    "In Python 3.6, a new way of formatting strings was introduced: f-strings. These are a more intuitive way of formatting strings, and are generally preferred over the old way of formatting strings.\n",
    "\n",
    "To create an f-string, you simply put an 'f' in front of the string, and then you can insert variables directly into the string by putting them in curly braces.\n",
    "For example:\n",
    "\n",
    "```python\n",
    "f\"the value of x is {x}\"\n",
    "```\n",
    "\n",
    "But f-strings are not just for variables! You can also put any valid Python expression inside the curly braces. For example:\n",
    "\n",
    "```python\n",
    "f\"the value of x plus 5 is {x + 5}\"\n",
    "```\n",
    "\n",
    "Or, since python 3.8 you can have an f-string output the name and value of a variable like so:\n",
    "\n",
    "```python\n",
    "foo = 1\n",
    "bar = 2\n",
    "print(f\"{foo=} {bar=}\")\n",
    "```\n",
    "\n",
    "Handy!"
   ]
  },
  {
   "cell_type": "markdown",
   "metadata": {},
   "source": [
    "#### Lists\n",
    "A list is the Python equivalent of an array, but can be resized and can contain elements of different types. It is similar to a list in R and a cell in MATLAB. Note that indices in python start with 0! This means that the 3rd element of the list below is accessed through `[2]`.\n",
    "\n",
    "Let's check out some lists and how to index them!"
   ]
  },
  {
   "cell_type": "code",
   "execution_count": null,
   "metadata": {},
   "outputs": [],
   "source": [
    "# Note that list may contain numbers ...\n",
    "list1 = [3, 1, 2]\n",
    "\n",
    "# ... or strings\n",
    "list2 = ['hello', 'world']\n",
    "\n",
    "# ... or, actually, anything at all! List lists themselves\n",
    "list3 = ['hello', [3, 1, 2], 'world', 5.3, -999]"
   ]
  },
  {
   "cell_type": "markdown",
   "metadata": {},
   "source": [
    "Whatever the contents of a list, they are indexed the same way: using square brackets with an integer, e.g. `[0]`:"
   ]
  },
  {
   "cell_type": "code",
   "execution_count": null,
   "metadata": {},
   "outputs": [],
   "source": [
    "print('The first element of list1 is: %i' % list1[0])\n",
    "print('The second element of list2 is: %s' % list2[1])\n",
    "print('The last element of list3 is: %i' % list3[-1])\n",
    "print('The second-to-last element of list3 is: %f' % list3[-2])"
   ]
  },
  {
   "cell_type": "markdown",
   "metadata": {},
   "source": [
    "Note that you can also use negative indices! Negative indices start indexing from the end of the list, so `[-1]` indexes the last element, `[-2]` indexes the second-to-last element, etc.\n",
    "\n",
    "We cannot only 'extract' element from lists using indexing, but we can also replace them! This works as follows:"
   ]
  },
  {
   "cell_type": "code",
   "execution_count": null,
   "metadata": {},
   "outputs": [],
   "source": [
    "some_list = [1, 2, 3, ['A', 'B', 'C']]\n",
    "\n",
    "# Let's set the first element of some_list to 100:\n",
    "some_list[0] = 100\n",
    "print(some_list)\n",
    "\n",
    "# Note that indexing a list within a list is done with sequential square brackets,\n",
    "# so if we want to index the element 'A' in some_list, we do:\n",
    "some_list[-1][0] = 'ANOTHER STRING'\n",
    "print(some_list)"
   ]
  },
  {
   "cell_type": "markdown",
   "metadata": {},
   "source": [
    "<div class='alert alert-warning'>\n",
    "<b>ToDo</b> (1 point)\n",
    "</div>\n",
    "In the cell below, replace the element 'TO_REPLACE_1' with 'REPLACED' and the element 'TO_REPLACE_2' also with 'REPLACED' in the list `todo_list`."
   ]
  },
  {
   "cell_type": "code",
   "execution_count": null,
   "metadata": {},
   "outputs": [],
   "source": [
    "todo_list = [1, 'B', 'TO_REPLACE_1', [5, 3, 1038, 'C'], [1, 3, 5, [9, 3, 1, 'TO_REPLACE_2']]]\n",
    "\n",
    "# your solution here"
   ]
  },
  {
   "cell_type": "markdown",
   "metadata": {},
   "source": [
    "**Note**: the code-cell below as usual tests your ToDo, but we haven't written out the tests in the cell itself. Instead, we wrote the tests in a separate Python module (a file with a collection of functions, objects, etc.), which we import here. (We do this, because writing out the tests here would give you the answer rightaway!)"
   ]
  },
  {
   "cell_type": "code",
   "execution_count": null,
   "metadata": {},
   "outputs": [],
   "source": [
    "''' Tests the above ToDo with a custom function. '''\n",
    "# Below, we import all our tests (*)\n",
    "from tests import *\n",
    "test_list_indexing(todo_list)"
   ]
  },
  {
   "cell_type": "markdown",
   "metadata": {},
   "source": [
    "In addition to accessing list elements one at a time, Python provides concise syntax to access specific parts of a list (sublists); this is known as **slicing**. \n",
    "\n",
    "Let's look at some slice operations:"
   ]
  },
  {
   "cell_type": "code",
   "execution_count": null,
   "metadata": {},
   "outputs": [],
   "source": [
    "nums = [0, 1, 2, 3, 4, 5, 6, 7, 8, 9]\n",
    "print(nums)         # Our original list\n",
    "\n",
    "# Get a slice form index 2 to 4 (exclusive); prints \"[2, 3]\"\n",
    "print(nums[2:4])\n",
    "\n",
    "# Get a slice from index 2 to the end; prints \"[2, 3, 4, 5, 6, 7, 8, 9]\"\n",
    "print(nums[2:])\n",
    "\n",
    "# Get a slice from the start to index 2 (exclusive); prints \"[0, 1]\"\n",
    "print(nums[:2])\n",
    "\n",
    "# Get a slice of the whole list; prints [\"0, 1, 2, 3, 4, 5, 6, 7, 8, 9]\"\n",
    "print(nums[:])\n",
    "\n",
    "# Slice indices can be negative; prints [\"0, 1, 2, 3, 4, 5, 6, 7, 8]\",\n",
    "# so everything up to (but not including) the last element\n",
    "print(nums[:-1])"
   ]
  },
  {
   "cell_type": "markdown",
   "metadata": {},
   "source": [
    "Apart from the syntax `[from:to]`, you can also specify a \"stride\" (sort of step-size) of your slice using the syntax `[from:to:stride]`:"
   ]
  },
  {
   "cell_type": "code",
   "execution_count": null,
   "metadata": {},
   "outputs": [],
   "source": [
    "# Return values in steps of 2\n",
    "print(nums[::2])\n",
    "\n",
    "# Returns values in steps of 3, but starting from the second element\n",
    "print(nums[1::3])"
   ]
  },
  {
   "cell_type": "markdown",
   "metadata": {},
   "source": [
    "With 'normal' indexing of lists, you can only index a subsequently set/replace one element at the time. With slices, however, you can set multiple elements at the same time:"
   ]
  },
  {
   "cell_type": "code",
   "execution_count": null,
   "metadata": {},
   "outputs": [],
   "source": [
    "nums[2:4] = [100, 200] # Assign a new sublist to a slice\n",
    "print(nums)         # Prints \"[0, 1, 100, 200, 4, 5, 6, 7, 8, 9]\""
   ]
  },
  {
   "cell_type": "markdown",
   "metadata": {},
   "source": [
    "Importantly, slicing in Python is \"end exclusive\", which means that the last index in your slice is not returned. Thus ...\n",
    "\n",
    "`nums = [0, 1, 2, 3, 4, 5, 6, 7, 8, 9]\n",
    "nums[0:5]` \n",
    "\n",
    "... returns 0 up till and including 4 (not 5!).\n",
    "\n",
    "Check it out below:"
   ]
  },
  {
   "cell_type": "code",
   "execution_count": null,
   "metadata": {},
   "outputs": [],
   "source": [
    "nums = [0, 1, 2, 3, 4, 5, 6, 7, 8, 9]\n",
    "print(nums[0:5])"
   ]
  },
  {
   "cell_type": "markdown",
   "metadata": {},
   "source": [
    "<font color='blue'><b>Tip</b></font>: instead of creating sequential lists like:\n",
    "\n",
    "`num = [0, 1, 2, 3, 4, 5, 6, 7, 8, 9]`\n",
    "\n",
    "... we can also create a list using the syntax: \n",
    "\n",
    "`num = list(range(starting_point, exclusive_end_point))`\n",
    "\n",
    "For example, to create a list from 5 to 15, use the following:\n",
    "\n",
    "`num = list(range(5, 16))` \n",
    "\n",
    "We'll use this construction (`list(range(x, y))`, or without the `list`) quite often in this course!"
   ]
  },
  {
   "cell_type": "markdown",
   "metadata": {},
   "source": [
    "<div class='alert alert-warning'>\n",
    "<b>ToDo</b> (1 point)\n",
    "</div>\n",
    "From the list (`my_list`) below, extract the numbers 2, 3, 4, 5, and 6 using a slice and store it in a new variable named `my_new_list`!"
   ]
  },
  {
   "cell_type": "code",
   "execution_count": null,
   "metadata": {},
   "outputs": [],
   "source": [
    "my_list = [1, 2, 3, 4, 5, 6, 7, 8, 9, 10]\n",
    "\n",
    "# your solution here\n"
   ]
  },
  {
   "cell_type": "code",
   "execution_count": null,
   "metadata": {},
   "outputs": [],
   "source": [
    "available_vars = dir()\n",
    "if 'my_new_list' not in available_vars:\n",
    "    raise ValueError(\"You did not store the results in a new variable caleld 'my_new_list'!\")\n",
    "\n",
    "test_slicing_1(my_new_list)"
   ]
  },
  {
   "cell_type": "markdown",
   "metadata": {},
   "source": [
    "<div class='alert alert-warning'>\n",
    "<b>ToDo</b> (1 point) \n",
    "</div>\n",
    "From the list below (`my_list_2`), extract the values `[5, 7, 9, 11]` using a slice (i.e., in a single operation!) and store it in a new variable named `my_new_list_2`."
   ]
  },
  {
   "cell_type": "code",
   "execution_count": null,
   "metadata": {},
   "outputs": [],
   "source": [
    "my_list_2 = [1, 3, 5, 7, 9, 11, 13, 15, 17, 19, 21]\n",
    "\n",
    "# your solution here\n"
   ]
  },
  {
   "cell_type": "code",
   "execution_count": null,
   "metadata": {},
   "outputs": [],
   "source": [
    "available_vars = dir()\n",
    "\n",
    "if 'my_new_list_2' not in available_vars:\n",
    "    raise ValueError(\"You didn't define the variable 'my_new_list_2'!\")\n",
    "\n",
    "test_slicing_2(my_new_list_2)"
   ]
  },
  {
   "cell_type": "markdown",
   "metadata": {},
   "source": [
    "**NOTE**: you can index *strings* the same way as you index lists! Try to see it this way: a string is, quite literally, a *string* (\"list\") of characters. So, to get the first letter of some string s (e.g, 'this is a string'), you simply write: `s[0]`. To get first 5 characters, you write `s[:5]`, etc etc. Remember this!"
   ]
  },
  {
   "cell_type": "markdown",
   "metadata": {},
   "source": [
    "#### Dictionaries\n",
    "Dictionaries might be new for those who are used to MATLAB or R. Basically, a dictionary is an **unordered** list in which list entries have a name (which is also referred to as a \"key\"). To get a value from a dictionary, you have to use the \"key\" as index instead of using an integer.\n",
    "\n",
    "Let's check out such a dictionary and how to index it. We build a dictionary using the following syntax: \n",
    "\n",
    "`{some_key: value, another_key: another_value, etc: etc}`\n",
    "\n",
    "The keys can be anything! Strings, integers, lists ... doesn't matter! Mostly, though, strings are used as keys. \n",
    "So, let's look at an example:"
   ]
  },
  {
   "cell_type": "code",
   "execution_count": null,
   "metadata": {},
   "outputs": [],
   "source": [
    "my_dict = {'cat': 'cute', 'dog': 'furry'}  # Create a new dictionary with some data"
   ]
  },
  {
   "cell_type": "markdown",
   "metadata": {},
   "source": [
    "To index a dictionary, we'll use square brackets `[]` again, just like with lists. But now, we can index using the key!"
   ]
  },
  {
   "cell_type": "code",
   "execution_count": null,
   "metadata": {},
   "outputs": [],
   "source": [
    "indexed_value = my_dict['cat']\n",
    "print(indexed_value)"
   ]
  },
  {
   "cell_type": "markdown",
   "metadata": {},
   "source": [
    "Adding new key-value pairs to dictionaries is easy! Just index it with a new key, and assign the value to it:"
   ]
  },
  {
   "cell_type": "code",
   "execution_count": null,
   "metadata": {},
   "outputs": [],
   "source": [
    "my_dict['fish'] = 'wet'     # Set an entry in a dictionary\n",
    "print(my_dict['fish'])      # Prints \"wet\""
   ]
  },
  {
   "cell_type": "markdown",
   "metadata": {},
   "source": [
    "Like a list, an entry in a dictionary can be of any data type:"
   ]
  },
  {
   "cell_type": "code",
   "execution_count": null,
   "metadata": {},
   "outputs": [],
   "source": [
    "my_dict['rabbit'] = ['omg', 'so', 'cute']\n",
    "print(my_dict['rabbit'])"
   ]
  },
  {
   "cell_type": "markdown",
   "metadata": {},
   "source": [
    "If you try to 'index' a dictionary with a key that doesn't exist, it raises a \"KeyError\", which means you're trying to index something that doesn't exist:"
   ]
  },
  {
   "cell_type": "code",
   "execution_count": null,
   "metadata": {},
   "outputs": [],
   "source": [
    "print(my_dict['monkey'])"
   ]
  },
  {
   "cell_type": "markdown",
   "metadata": {},
   "source": [
    "<div class='alert alert-warning'>\n",
    "<b>ToDo</b> (1 point)\n",
    "</div>\n",
    "In the code cell below, add a new key to the dictionary `my_dict` named `\"rat\"` and with the value `\"nasty\"`."
   ]
  },
  {
   "cell_type": "code",
   "execution_count": null,
   "metadata": {},
   "outputs": [],
   "source": [
    "# Add the key-value pair here!\n",
    "\n",
    "# your solution here\n"
   ]
  },
  {
   "cell_type": "code",
   "execution_count": null,
   "metadata": {},
   "outputs": [],
   "source": [
    "''' Tests the above ToDo. '''\n",
    "\n",
    "try:\n",
    "    assert('rat' in my_dict)\n",
    "except AssertionError as e:\n",
    "    print(\"There exists no key 'rat' in my_dict!\")\n",
    "    raise(e)\n",
    "\n",
    "try:\n",
    "    assert(my_dict['rat'] == 'nasty')\n",
    "except AssertionError as e:\n",
    "    print(\"The value of key 'rat' is '%s' and NOT 'nasty'\" % my_dict['rat'])\n",
    "\n",
    "print('Well done!')"
   ]
  },
  {
   "cell_type": "markdown",
   "metadata": {},
   "source": [
    "<div class='alert alert-warning'>\n",
    "<b>ToDo</b> (1 point)\n",
    "</div>\n",
    "Values of dictionaries can be any type of object, even dictionaries themselves! So, add a new key to the dictionary `my_dict` named `\"another_dict\"` with the value of *another* dictionary with the keys `\"a\"` and `\"b\"` and the corresponding values `1` and `2`. Also, try to figure out how to index the value `1` from the 'nested' dictionary (this is not graded, but try it nonetheless!)."
   ]
  },
  {
   "cell_type": "code",
   "execution_count": null,
   "metadata": {},
   "outputs": [],
   "source": [
    "# Do the ToDo here\n",
    "\n"
   ]
  },
  {
   "cell_type": "code",
   "execution_count": null,
   "metadata": {},
   "outputs": [],
   "source": [
    "''' Tests the above ToDo. '''\n",
    "\n",
    "try:\n",
    "    assert('another_dict' in my_dict)\n",
    "except AssertionError as e:\n",
    "    print(\"There exists no key 'another_dict' in my_dict!\")\n",
    "    raise(e)\n",
    "\n",
    "try:\n",
    "    assert(my_dict['another_dict']['a'] == 1)\n",
    "    assert(my_dict['another_dict']['b'] == 2)\n",
    "except AssertionError as e:\n",
    "    print(\"The key 'another_dictionary' should contain a dictionary with keys 'a' and 'b', corresponding\"\n",
    "          \"to values 1 and 2, respectively.\")\n",
    "    raise(e)\n",
    "\n",
    "print('Well done!')"
   ]
  },
  {
   "cell_type": "markdown",
   "metadata": {},
   "source": [
    "#### tuples\n",
    "Tuples are very much like lists, but the main difference is that they are immutable. In other words, after creating them, they cannot be modified (their values cannot be replaced/altered):"
   ]
  },
  {
   "cell_type": "code",
   "execution_count": null,
   "metadata": {},
   "outputs": [],
   "source": [
    "# A list can be modified ...\n",
    "my_list = [1, 2, 3]\n",
    "my_list[0] = 0\n",
    "print(my_list)"
   ]
  },
  {
   "cell_type": "code",
   "execution_count": null,
   "metadata": {},
   "outputs": [],
   "source": [
    "# ... but a tuple cannot.\n",
    "my_tuple = (1, 2, 3)\n",
    "print(my_tuple[0]) # you can print parts of tuple ...\n",
    "my_tuple[0] = 0   # but you cannot modify it!"
   ]
  },
  {
   "cell_type": "markdown",
   "metadata": {},
   "source": [
    "You probably won't use tuples a lot, but you might come across them when using and writing functions (but more about that in the next section!)."
   ]
  },
  {
   "cell_type": "code",
   "execution_count": null,
   "metadata": {},
   "outputs": [],
   "source": [
    "def my_epic_function(integer):\n",
    "\n",
    "    return integer, integer * 2\n",
    "\n",
    "outputs = my_epic_function(10)\n",
    "print(outputs)\n",
    "print(type(outputs))\n",
    "\n",
    "# also, you can unpack tuples (and also lists) as follows:\n",
    "output1, output2 = outputs\n",
    "print(output2)"
   ]
  },
  {
   "cell_type": "markdown",
   "metadata": {},
   "source": [
    "#### Summary on container types\n",
    "\n",
    "As you've learned now, in Python, there are several data types that can be used to store collections of data. The main ones are lists, dictionaries, tuples, and sets. Here's a quick summary:\n",
    "\n",
    "* **Lists** are *mutable, ordered* collections of elements. You can add, remove, or modify elements in a list.\n",
    "* **Dictionaries** are *unordered* collections of *key-value pairs*. They are very fast for lookups, but you cannot assume any order in the dictionary.\n",
    "* **Tuples** are *immutable, ordered* collections of elements. Once you create a tuple, you cannot add, remove, or modify elements.\n",
    "* **Sets** are *mutable, unordered* collections of *unique* elements. You can add or remove elements from a set, but you cannot access a specific element.\n"
   ]
  },
  {
   "cell_type": "markdown",
   "metadata": {},
   "source": [
    "### 1.3 Functions and methods"
   ]
  },
  {
   "cell_type": "markdown",
   "metadata": {},
   "source": [
    "If you followed the Codecademy tutorial, you are familiar with the basic syntax of functions in Python; if you're familiar with other programming languages, you'll see that the syntax of Python functions is quite similar to what you're used to.\n",
    "\n",
    "A function definition in Python starts with the keyword `def`, followed by the function name and round brackets with the arguments to the function, and finally the contents of the function, like so (note the indentation with four spaces/tab!!!):\n",
    "\n",
    "```\n",
    "def my_awesome_function(arg_1, arg_2):\n",
    "    print(\"Argument 1: %s\" % arg_1)\n",
    "    print(\"Argument 2: %s\" % arg_2)\n",
    "```\n",
    "\n",
    "This dummy-function above prints some stuff, but does not **return** something. Similar to R (but unlike MATLAB), you have to explicitly state what you want to **return** from the function by the \"return\" statement. \n",
    "\n",
    "So, suppose you have a function that adds 2 to any number. Let's define it as follows (you have to run the cell to let Python know you've defined this function):"
   ]
  },
  {
   "cell_type": "code",
   "execution_count": null,
   "metadata": {},
   "outputs": [],
   "source": [
    "def add_2_to_a_number(some_number):\n",
    "    new_number = some_number + 2"
   ]
  },
  {
   "cell_type": "markdown",
   "metadata": {},
   "source": [
    "Here, we omitted a **return** statement to return the value of `new_number`. This is a problem, because in Python (like most languages) you cannot 'peek' inside the function after using it! You can only access whatever is returned. \n",
    "\n",
    "So, in the function defined above, we cannot access the value of `new_number`, because we didn't return it:"
   ]
  },
  {
   "cell_type": "code",
   "execution_count": null,
   "metadata": {},
   "outputs": [],
   "source": [
    "# This will give an error!\n",
    "add_2_to_a_number(5)\n",
    "print(new_number)"
   ]
  },
  {
   "cell_type": "markdown",
   "metadata": {},
   "source": [
    "So, to access the *value* of `new_number` (that is, *not* `new_number` itself, but its associated value), we need to return it:"
   ]
  },
  {
   "cell_type": "code",
   "execution_count": null,
   "metadata": {},
   "outputs": [],
   "source": [
    "def add_2_to_a_number_fixed(some_number):\n",
    "    new_number = some_number + 2\n",
    "    return new_number"
   ]
  },
  {
   "cell_type": "code",
   "execution_count": null,
   "metadata": {},
   "outputs": [],
   "source": [
    "value_contained_in_new_number = add_2_to_a_number_fixed(5)\n",
    "print(\"Results of function 'add_2_to_a_number' with argument '5': %i\" % value_contained_in_new_number)"
   ]
  },
  {
   "cell_type": "markdown",
   "metadata": {},
   "source": [
    "Importantly, you can name the variable to which you assign the return value *anyway you like*. This doesn't have to be `new_number`! Like above, we named it `value_contained_in_new_number`, but it really doesn't matter."
   ]
  },
  {
   "cell_type": "markdown",
   "metadata": {},
   "source": [
    "<div class='alert alert-warning'>\n",
    "<b>ToDo</b> (1 points) \n",
    "</div>\n",
    "In the code cell below, we've started writing a function named `extract_last_element` that takes one input-argument - a list - and returns the last element of the list. Some parts of the function are missing, though, which you need to write! When you're done, run the test-cell below it to check if it's right!"
   ]
  },
  {
   "cell_type": "code",
   "execution_count": null,
   "metadata": {},
   "outputs": [],
   "source": [
    "def extract_last_element(input_list):\n",
    "\n",
    "    # your solution here\n"
   ]
  },
  {
   "cell_type": "code",
   "execution_count": null,
   "metadata": {},
   "outputs": [],
   "source": [
    "try:\n",
    "    assert(extract_last_element(input_list=[0, 1, 2]) == 2)\n",
    "except AssertionError as e:\n",
    "    print(\"Your function fails for input [0, 1, 2]\")\n",
    "    raise(e)\n",
    "\n",
    "try:\n",
    "    assert(extract_last_element(input_list=[0]) == 0)\n",
    "except AssertionError as e:\n",
    "    print(\"Your function fails for input [0]\")\n",
    "    raise(e)\n",
    "\n",
    "try:\n",
    "    assert(extract_last_element(input_list=['string1', 'string2', 'string3']) == 'string3')\n",
    "except AssertionError as e:\n",
    "    print(\"Your function fails for input ['string1', 'string2', 'string3']\")\n",
    "    raise(e)\n",
    "\n",
    "print(\"Well done!\")"
   ]
  },
  {
   "cell_type": "markdown",
   "metadata": {},
   "source": [
    "Alright, that was probably relatively easy. Let's do a slightly harder one."
   ]
  },
  {
   "cell_type": "markdown",
   "metadata": {},
   "source": [
    "<div class='alert alert-warning'>\n",
    "<b>ToDo</b> (1 point) \n",
    "</div>\n",
    "Write a completely new function named `get_values_from_odd_indices` (so you have to write the `def ...` part!) that takes one input-argument - a list - and returns all values from the odd indices of that list. So, suppose you have a list:\n",
    "\n",
    "`[2, 100, 25, 48, 92, -5, 12]`\n",
    "\n",
    "... your function should return: \n",
    "\n",
    "`[100, 48, -5]`\n",
    "\n",
    "... i.e, the values from odd indices (here: 1, 3, 5; we exclude index zero!)\n",
    "\n",
    "Hint: slices might be useful here!\n",
    "\n",
    "When you're done, run the test-cell below it to check if it's right!"
   ]
  },
  {
   "cell_type": "code",
   "execution_count": null,
   "metadata": {},
   "outputs": [],
   "source": [
    "# Implement your function (called get_values_from_odd_indices) here:\n",
    "\n"
   ]
  },
  {
   "cell_type": "code",
   "execution_count": null,
   "metadata": {},
   "outputs": [],
   "source": [
    "''' Tests the ToDo above. '''\n",
    "try:\n",
    "    assert('get_values_from_odd_indices' in dir())\n",
    "    assert(callable(get_values_from_odd_indices))\n",
    "except AssertionError as e:\n",
    "    print(\"Your function 'get_values_from_odd_indices' does not seem to exist!\")\n",
    "\n",
    "try:\n",
    "    out = get_values_from_odd_indices([0, 1, 2])\n",
    "    if out is None:\n",
    "        msg = \"ERROR: did you forget the Return statement?\"\n",
    "        raise ValueError(msg)\n",
    "except ValueError as e:\n",
    "    raise(e)\n",
    "\n",
    "print(\"Well done (also run the next cell with tests)!\")"
   ]
  },
  {
   "cell_type": "code",
   "execution_count": null,
   "metadata": {},
   "outputs": [],
   "source": [
    "''' Some other tests for the ToDo above. '''\n",
    "inp = [0, 1, 2]\n",
    "outp = get_values_from_odd_indices(inp)\n",
    "ans = [1]\n",
    "try:\n",
    "    assert(outp == ans)\n",
    "except AssertionError as e:\n",
    "    print(\"Your function returned '%r' but I expected '%r'\" % (outp, ans))\n",
    "    raise(e)\n",
    "\n",
    "inp = [5, 7, 9, 11, 13, 15, 18, 20, 21]\n",
    "outp = get_values_from_odd_indices(inp)\n",
    "ans = [7, 11, 15, 20]\n",
    "try:\n",
    "    assert(outp == ans)\n",
    "except AssertionError as e:\n",
    "    print(\"Your function returned '%r' but I expected '%r'\" % (outp, ans))\n",
    "    raise(e)\n",
    "\n",
    "print(\"Well done!\")"
   ]
  },
  {
   "cell_type": "markdown",
   "metadata": {},
   "source": [
    "**IMPORTANT**: it is possible to return *multiple things* from a function. The function, then, returns these things as a tuple, which can subsequently be \"unpacked\". Let's check out an example using a custom function called `minmax_of_list` which returns both the minimum and maximum of a list:"
   ]
  },
  {
   "cell_type": "code",
   "execution_count": null,
   "metadata": {},
   "outputs": [],
   "source": [
    "def minmax_of_list(some_list):\n",
    "    ''' Returns both the minimum and maximum of a list.\n",
    "\n",
    "    Parameters\n",
    "    ----------\n",
    "    some_list : a Python list\n",
    "\n",
    "    Returns\n",
    "    -------\n",
    "    min_value : a float or int\n",
    "        The minimum of a list\n",
    "    max_value : a float or int\n",
    "        The maximum of a list\n",
    "    '''\n",
    "    min_value = min(some_list)\n",
    "    max_value = max(some_list)\n",
    "\n",
    "    return min_value, max_value"
   ]
  },
  {
   "cell_type": "markdown",
   "metadata": {},
   "source": [
    "As you can see, returning multiple things is a simple as adding more variables after the `return` statement, separated by commas. If we now call the function with a particular list, it gives us back a tuple of size 2 (one value for the minimum, one value for the maximum):"
   ]
  },
  {
   "cell_type": "code",
   "execution_count": null,
   "metadata": {},
   "outputs": [],
   "source": [
    "output_from_function = minmax_of_list([0, 1, 2, 3])\n",
    "print(output_from_function)\n",
    "print(type(output_from_function))"
   ]
  },
  {
   "cell_type": "markdown",
   "metadata": {},
   "source": [
    "We can now \"unpack\" the tuple (i.e., extract the separate values) in several ways. One way is to simply index the values:"
   ]
  },
  {
   "cell_type": "code",
   "execution_count": null,
   "metadata": {},
   "outputs": [],
   "source": [
    "output_from_function = minmax_of_list([0, 1, 2, 3])\n",
    "minimum = output_from_function[0]\n",
    "print(\"Minimum: %i\" % minimum)\n",
    "\n",
    "maximum = output_from_function[1]\n",
    "print(\"Maximum: %i\" % maximum)"
   ]
  },
  {
   "cell_type": "markdown",
   "metadata": {},
   "source": [
    "Alternatively, we can already \"extract\" one value, let's say the maximum (index 1 of the tuple) right after calling the function, so we can skip dealing with the tuple altogether:"
   ]
  },
  {
   "cell_type": "code",
   "execution_count": null,
   "metadata": {},
   "outputs": [],
   "source": [
    "maximum = minmax_of_list([0, 1, 2, 3])[1]  # The [1] extracts the maximum from the output of the function immediately!\n",
    "print(\"Maximum: %i\" % maximum)"
   ]
  },
  {
   "cell_type": "markdown",
   "metadata": {},
   "source": [
    "Keep this feature of returning multiple things and tuple unpacking in mind for the rest of the course (you'll definitely encounter it more often!)."
   ]
  },
  {
   "cell_type": "markdown",
   "metadata": {},
   "source": [
    "#### Methods\n",
    "However, in Python, functions are not the only things that allow you to 'do' things with data. In others' code, you'll often see function-like expressions written with periods, like this: `some_variable.function()`. These `.function()` parts are called 'methods', which are like functions 'inherent' to a specific type of object. In other words, it is a function that is applied to the object it belongs to. \n",
    "\n",
    "Different type of objects in Python, such as stings and lists, have their own set of methods. For example, the function you defined above (`extract_last_element()`) also exists as a method each list has, called `pop()`! (This is a builtin, standard, method that each list in Python has.) See for yourself in the block below."
   ]
  },
  {
   "cell_type": "code",
   "execution_count": null,
   "metadata": {},
   "outputs": [],
   "source": [
    "my_list = [0, 5, 10, 15]\n",
    "print(my_list.pop())\n",
    "\n",
    "# You can also just do the following (i.e. no need to define a variable first!):\n",
    "print([0, 5, 10, 15].pop())\n",
    "\n",
    "# ... which is the same as:\n",
    "print(extract_last_element([0, 5, 10, 15]))"
   ]
  },
  {
   "cell_type": "markdown",
   "metadata": {},
   "source": [
    "Not only lists, but also other data-types (such as strings, dictionaries, and, as we'll see later, numpy arrays) have their own methods. How methods work exactly is not really important (this belongs to the topic of 'object-oriented programming'), but it is necessary to know **what** it does, as you'll see them a lot throughout this course. \n",
    "\n",
    "We'll show you a couple of (often-used) examples:"
   ]
  },
  {
   "cell_type": "code",
   "execution_count": null,
   "metadata": {},
   "outputs": [],
   "source": [
    "# For lists, we have .append()\n",
    "x = [0, 10, 15]\n",
    "x.append(20) # Add a new element to the end of the list using the append() method!\n",
    "print(x)"
   ]
  },
  {
   "cell_type": "markdown",
   "metadata": {},
   "source": [
    "**Note**: sometimes, methods modify the object (above: `x`) *in-place*, which means that the method does not return anything, so you don't have to assign it to a new variable. If you accidentally do this, the new object's value is `None`, as you see below: "
   ]
  },
  {
   "cell_type": "code",
   "execution_count": null,
   "metadata": {},
   "outputs": [],
   "source": [
    "x = [0, 10, 15]\n",
    "x_new = x.append(20)\n",
    "print(x_new)"
   ]
  },
  {
   "cell_type": "markdown",
   "metadata": {},
   "source": [
    "Some often-used methods for dictionaries:"
   ]
  },
  {
   "cell_type": "code",
   "execution_count": null,
   "metadata": {},
   "outputs": [],
   "source": [
    "my_dict = {'a': 0, 'b': 1, 'c': 2}\n",
    "\n",
    "# The .values() method returns all the values of the dictionary\n",
    "print(list(my_dict.values()))\n",
    "\n",
    "# And the .keys() method returns all the keys of the dictionary\n",
    "print(list(my_dict.keys()))"
   ]
  },
  {
   "cell_type": "markdown",
   "metadata": {},
   "source": [
    "**Note**: these dictionary-methods actually *do* return values! "
   ]
  },
  {
   "cell_type": "markdown",
   "metadata": {},
   "source": [
    "Some often-used methods for strings:"
   ]
  },
  {
   "cell_type": "code",
   "execution_count": null,
   "metadata": {},
   "outputs": [],
   "source": [
    "my_string = 'neuroimaging is fun!'\n",
    "\n",
    "# The .upper() method returns the string in uppercase!\n",
    "print(my_string.upper())\n",
    "\n",
    "# The .count(substring) method returns the number of times a substring occurs in a string\n",
    "print(my_string.count('n'))\n",
    "\n",
    "# The .replace(old, new) method replaces substrings\n",
    "print(my_string.replace('fun', 'awesome'))\n",
    "\n",
    "# The .split(separator) splits a string into subparts (returned as a list)\n",
    "print(my_string.split(' '))  # split by whitespace"
   ]
  },
  {
   "cell_type": "markdown",
   "metadata": {},
   "source": [
    "#### Default arguments in functions/methods\n",
    "Importantly, and unlike most (scientific) programming languages, Python supports the use of 'default' arguments in functions. Basically, if you don't specify an optional argument, it uses the default:"
   ]
  },
  {
   "cell_type": "code",
   "execution_count": null,
   "metadata": {},
   "outputs": [],
   "source": [
    "def exponentiate_number(number, power=2):\n",
    "    return number ** power\n",
    "\n",
    "print(exponentiate_number(2)) # now it uses the default!\n",
    "print(exponentiate_number(2, 10)) # now it \"overwrites\" the default and uses power=10\n",
    "print(exponentiate_number(number=2, power=10)) # also note that you can 'name' arguments"
   ]
  },
  {
   "cell_type": "markdown",
   "metadata": {},
   "source": [
    "### 1.4 If-statements\n",
    "If-elif-else statements in Python are quite straightforward. An example:"
   ]
  },
  {
   "cell_type": "code",
   "execution_count": null,
   "metadata": {},
   "outputs": [],
   "source": [
    "x = 5\n",
    "\n",
    "if x > 0:\n",
    "    print('x is larger than 0')\n",
    "elif x < 0:\n",
    "    print('x is smaller than 0')\n",
    "else:\n",
    "    print('x must be exactly 0!')"
   ]
  },
  {
   "cell_type": "markdown",
   "metadata": {},
   "source": [
    "If-statements contain at least an `if` keyword, but optionally also one or more `elif` (\"else if\") statements and an optional `else` statement. We'll practice this (in a `ToDo`) after the section on Loops."
   ]
  },
  {
   "cell_type": "markdown",
   "metadata": {},
   "source": [
    "### 1.4 Loops\n",
    "Loops in Python (for- and while-loops) are largely similar to MATLAB and R loops, with some minor differences in  their syntax:"
   ]
  },
  {
   "cell_type": "code",
   "execution_count": null,
   "metadata": {},
   "outputs": [],
   "source": [
    "animals = ['cat', 'dog', 'monkey']\n",
    "for animal in animals:\n",
    "    print(animal)"
   ]
  },
  {
   "cell_type": "markdown",
   "metadata": {},
   "source": [
    "Basically, each data type that is also an \"iterable\" (something that you can iterate over) can be used in loops, including lists, dictionaries, and tuples."
   ]
  },
  {
   "cell_type": "code",
   "execution_count": null,
   "metadata": {},
   "outputs": [],
   "source": [
    "# An example of looping over a list\n",
    "my_list = [1, 2, 3]\n",
    "for x in my_list:\n",
    "    print(x)"
   ]
  },
  {
   "cell_type": "markdown",
   "metadata": {},
   "source": [
    "MATLAB users might be used to looping over indices instead of the actual list values, like the following:\n",
    "\n",
    "```\n",
    "for i=1:100\n",
    "    disp(some_list(i));\n",
    "end```\n",
    "\n",
    "In Python, however, you loop (by default) over the contents of a list:\n",
    "\n",
    "```\n",
    "for entry in some_list:\n",
    "    print(entry)\n",
    "```\n",
    "    \n",
    "If you want to access for the value **AND** the index, you can use the built-in `enumerate` function:"
   ]
  },
  {
   "cell_type": "code",
   "execution_count": null,
   "metadata": {},
   "outputs": [],
   "source": [
    "my_list = ['a', 'b', 'c']\n",
    "for index, value in enumerate(my_list):\n",
    "\n",
    "    print('Loop iteration number (index) = %i, value = %s' % (index, value))\n",
    "\n",
    "# Don't forget that Python indexing starts at zero!"
   ]
  },
  {
   "cell_type": "code",
   "execution_count": null,
   "metadata": {},
   "outputs": [],
   "source": [
    "# Looping over a tuple (exactly the same as looping over a list)\n",
    "my_tuple = (1, 2, 3)\n",
    "for x in my_tuple:\n",
    "    print(x)"
   ]
  },
  {
   "cell_type": "code",
   "execution_count": null,
   "metadata": {},
   "outputs": [],
   "source": [
    "# Iterating over a dictionary can be done in a couple of ways!\n",
    "my_dict = {'a': 1, 'b': 2, 'c': 3}\n",
    "\n",
    "# Looping over the keys ONLY\n",
    "for key in my_dict:\n",
    "    print(key)"
   ]
  },
  {
   "cell_type": "code",
   "execution_count": null,
   "metadata": {},
   "outputs": [],
   "source": [
    "# Looping over both the keys and the entries\n",
    "for key, entry in my_dict.items():\n",
    "    print(key, entry)"
   ]
  },
  {
   "cell_type": "markdown",
   "metadata": {},
   "source": [
    "<div class='alert alert-warning'>\n",
    "<b>ToDo</b> (2 points) \n",
    "</div>\n",
    "Complete the function below - named `extract_values_smaller_than_0` - that takes a single list with numbers as input and returns a new list with *only the values smaller than 0* from the input-list. For example, suppose our input-list is:\n",
    "\n",
    "```\n",
    "[2, -5.3, 1.8, 0.0, -205.1, 6029]\n",
    "```\n",
    "\n",
    "... the function should return:\n",
    "\n",
    "```\n",
    "[-5.3, -205.1]\n",
    "```\n",
    "\n",
    "Hint: use an if-statement in combination with the `.append()` method of the empty list we initialized below (`list_to_return`) to fill the `list_to_return` variable in a for-loop. In other words, the function should contain an if-statement in a for-loop (in which you need to use the `.append()` method)."
   ]
  },
  {
   "cell_type": "code",
   "execution_count": null,
   "metadata": {},
   "outputs": [],
   "source": [
    "# Complete the function below (make sure to remove raise NotImplementedError!)\n",
    "def extract_values_smaller_than_0(input_list):\n",
    "\n",
    "    # We initialize an empty list here (which you need to fill using a for-loop)\n",
    "    list_to_return = []\n",
    "\n",
    "    # your solution here\n",
    "\n",
    "\n",
    "    return list_to_return"
   ]
  },
  {
   "cell_type": "code",
   "execution_count": null,
   "metadata": {},
   "outputs": [],
   "source": [
    "''' Tests the ToDo above. '''\n",
    "inp = [-5, 2, 3, -8]\n",
    "outp = extract_values_smaller_than_0(inp)\n",
    "ans = [-5, -8]\n",
    "try:\n",
    "    assert(outp == ans)\n",
    "except AssertionError as e:\n",
    "    print(\"Your function  with input '%r' returned '%r', but I expected '%r'\" % (inp, outp, ans))\n",
    "    raise(e)\n",
    "\n",
    "inp = [0, 2, -3]\n",
    "outp = extract_values_smaller_than_0(inp)\n",
    "ans = [-3]\n",
    "try:\n",
    "    assert(outp == ans)\n",
    "except AssertionError as e:\n",
    "    print(\"Your function  with input '%r' returned '%r', but I expected '%r'\" % (inp, outp, ans))\n",
    "    raise(e)\n",
    "\n",
    "inp = [0, 0, 0]\n",
    "outp = extract_values_smaller_than_0(inp)\n",
    "ans = []\n",
    "try:\n",
    "    assert(outp == ans)\n",
    "except AssertionError as e:\n",
    "    print(\"Your function  with input '%r' returned '%r', but I expected '%r'\" % (inp, outp, ans))\n",
    "    raise(e)\n",
    "\n",
    "print(\"Well done!\")"
   ]
  },
  {
   "cell_type": "markdown",
   "metadata": {},
   "source": [
    "#### Advanced loops: list comprehensions\n",
    "Sometimes, writing (and reading!) for-loops can be confusing and lead to \"ugly\" code. Wouldn't it be nice to represent (small) for-loops on a single line? Python has a way to do this: using what is called `list comprehensions`. It does exactly the same thing as a for-loop: it takes a list, iterates over its entries (and does something with each entry), and (optionally) returns a (modified) list. \n",
    "\n",
    "Let's look at an arbitrary example of a for-loop over a list:"
   ]
  },
  {
   "cell_type": "code",
   "execution_count": null,
   "metadata": {},
   "outputs": [],
   "source": [
    "nums = [0, 1, 2, 3, 4]\n",
    "\n",
    "# Also, check out the way 'enumerate' is used here!\n",
    "for index, x in enumerate(nums):\n",
    "    nums[index] = x ** 2\n",
    "\n",
    "print(nums)"
   ]
  },
  {
   "cell_type": "markdown",
   "metadata": {},
   "source": [
    "You can make this code simpler using a list comprehension:"
   ]
  },
  {
   "cell_type": "code",
   "execution_count": null,
   "metadata": {},
   "outputs": [],
   "source": [
    "nums = [0, 1, 2, 3, 4]\n",
    "squares = [x ** 2 for x in nums] # importantly, a list comprehension always returns a (modified) list!\n",
    "print(squares)"
   ]
  },
  {
   "cell_type": "markdown",
   "metadata": {},
   "source": [
    "Also, list comprehensions may contain if-statements!"
   ]
  },
  {
   "cell_type": "code",
   "execution_count": null,
   "metadata": {},
   "outputs": [],
   "source": [
    "string_nums = ['one', 'two', 'three']\n",
    "starts_with_t = ['yes' if s[0] == 't' else 'no' for s in string_nums]\n",
    "print(starts_with_t)"
   ]
  },
  {
   "cell_type": "markdown",
   "metadata": {},
   "source": [
    "<div class='alert alert-warning'>\n",
    "<b>ToDo</b> (0 points; optional)\n",
    "</div>\n",
    "Write a list comprehension that adds the string '\\_check' to each value in the list `my_list` below, except if the value is 'B'. (This is an optional ToDo to practice list comprehensions.)"
   ]
  },
  {
   "cell_type": "code",
   "execution_count": null,
   "metadata": {},
   "outputs": [],
   "source": [
    "my_list = ['A', 'B', 'C', 'D']\n",
    "# Implement your list comprehension here!\n",
    "\n"
   ]
  },
  {
   "cell_type": "markdown",
   "metadata": {},
   "source": [
    "List comprehensions are somewhat of a more advanced Python concept, so if you don't feel comfortable using them (correctly) in your future assignments, use regular for-loops by all means! In the upcoming tutorials, though, we'll definitely use them, so make sure you understand what they do!"
   ]
  },
  {
   "cell_type": "markdown",
   "metadata": {},
   "source": [
    "# Object-Oriented Programming in Python\n",
    "\n",
    "Object-Oriented Programming (OOP) is a programming paradigm that uses the concept of \"objects\" to design software. \n",
    "\n",
    "Objects are defined by their properties (attributes) and behavior (methods). For example, a car is an object with properties like color, make, and model, and behavior like driving and honking. This is a very intuitive way of thinking about software design, and it's used in many programming languages, including Python.\n",
    "\n",
    "In OOP, objects are instances of classes, which represent real-world entities. Classes define the properties and behavior of objects, and can be thought of as 'factories' of objects. Properties of objects are represented by variables, and behavior is represented by functions, which are called methods in the context of classes. The variables of an object can be accessed using the dot notation, like `object.variable`, and the methods can be called using the dot notation, like `object.method()`. The state of an object is stored in its attributes, and its behavior is defined by its methods.\n",
    "\n",
    "## Classes and Objects\n",
    "\n",
    "In Python, classes are defined using the `class` keyword, followed by the class name and a colon. The body of the class is indented, just like in functions and control structures. The class definition can contain class attributes, which are shared by all instances of the class, and methods, which define the behavior of the class.\n",
    "\n",
    "To create an object, you call the class as if it were a function, like `object = ClassName()`. This calls the class's `__init__` method, which is a special method that initializes the object. The `__init__` method can take arguments, which are passed when the object is created. The `self` parameter is a reference to the object itself, and is used to access the object's attributes and methods.\n",
    "\n",
    "Let's look at an example of a simple class in Python:\n"
   ]
  },
  {
   "cell_type": "code",
   "execution_count": 2,
   "metadata": {},
   "outputs": [
    {
     "name": "stdout",
     "output_type": "stream",
     "text": [
      "mauve dog names Fido says Woof!\n"
     ]
    }
   ],
   "source": [
    "class Dog:\n",
    "    def __init__(self, name, color='black'):\n",
    "        self.name = name\n",
    "        self.color = color\n",
    "\n",
    "    def bark(self):\n",
    "        print(f'{self.color} dog names {self.name} says Woof!')\n",
    "\n",
    "my_dog = Dog('Fido', color='mauve')\n",
    "my_dog.bark()"
   ]
  },
  {
   "cell_type": "markdown",
   "metadata": {},
   "source": [
    "You see that the class name is capitalized, which is a convention in Python. This format is called Camel Case (`CamelCase`), in contrast to Snake Case used for variables and functions/methods (`snake_case`) where all words are lower case and separated by underscores _ . \n",
    "\n",
    "\n",
    "You see how in the `bark` method the `self` parameter is passed automatically when the method is called, so you don't need to include it when you call the method. Don't forget writing it when defining the method though!"
   ]
  },
  {
   "cell_type": "markdown",
   "metadata": {},
   "source": [
    "One of the key features of OOP is inheritance, which allows one class to inherit the properties and behavior of another class. This is useful when you have classes that are similar but have some differences. In Python, a class can inherit from another class by including the name of the parent class in parentheses after the class name. The child class can then access the attributes and methods of the parent class, and can override them or add new ones.\n",
    "\n",
    "\n",
    "In the example above, the `Dog` class inherits from the `Pet` class. The `Dog` class has an additional method `bark`, which is not present in the `Animal` class. The `Dog` class can access the `name` attribute of the `Animal` class using the `super()` function, which returns a temporary object of the superclass that then allows you to call its methods."
   ]
  },
  {
   "cell_type": "code",
   "execution_count": 11,
   "metadata": {},
   "outputs": [
    {
     "name": "stdout",
     "output_type": "stream",
     "text": [
      "mauve dog names Fido says Woof!\n",
      "red cat names Roger says Meow!\n"
     ]
    }
   ],
   "source": [
    "class Pet:\n",
    "    def __init__(self, name, species, color='black'):\n",
    "        self.name = name\n",
    "        self.species = species\n",
    "        self.color = color\n",
    "\n",
    "    def _sound(self, sound):\n",
    "        print(f'{self.color} {self.species} names {self.name} says {sound}!')\n",
    "\n",
    "class Dog(Pet):\n",
    "    species = 'dog'\n",
    "    sound = 'Woof'\n",
    "    def __init__(self, name, color='black'):\n",
    "        super().__init__(name, species='dog', color=color)\n",
    "\n",
    "    def bark(self):\n",
    "        self._sound(self.sound)\n",
    "\n",
    "class Cat(Pet):\n",
    "    species = 'cat'\n",
    "    sound = 'Meow'\n",
    "    def __init__(self, name, color='black'):\n",
    "        super().__init__(name, species='cat', color=color)\n",
    "\n",
    "    def meow(self):\n",
    "        self._sound(self.sound)\n",
    "\n",
    "my_dog = Dog('Fido', color='mauve')\n",
    "my_dog.bark()\n",
    "\n",
    "my_cat = Cat('Roger', color='red')\n",
    "my_cat.meow()"
   ]
  },
  {
   "cell_type": "markdown",
   "metadata": {},
   "source": [
    "You see how having a `Pet` class is useful, because you can create different types of pets that all share the same attributes and methods. This is the power of OOP: you can create classes that represent real-world entities, and then create objects that are instances of those classes.\n",
    "\n",
    "\n",
    "<div class=\"alert alert-warning\">\n",
    "<b>ToDo</b> (1 point)\n",
    "</div>\n",
    "In the code-cell below, create a class `Goat` that inherits from the `Pet` class. The `Goat` class should have a method `bleat` that prints \"Baaah!\". "
   ]
  },
  {
   "cell_type": "code",
   "execution_count": null,
   "metadata": {},
   "outputs": [],
   "source": []
  },
  {
   "cell_type": "markdown",
   "metadata": {},
   "source": [
    "## Try and Except\n",
    "\n",
    "You've already seen a lot of these statements in the code above, and it's when we check your ToDo code. But what are they exactly?\n",
    "\n",
    "In Python, exceptions are raised when something unexpected happens. For example, if you try to open a file that doesn't exist, Python will raise a `FileNotFoundError` exception. You can handle exceptions using a `try` statement, which allows you to catch exceptions that are raised in the `try` block and handle them in the `except` block. This is useful when you want to handle errors gracefully and prevent your program from crashing.\n",
    "\n",
    "You've seen this before in the `extract_last_element` function you wrote earlier. If the input list is empty, the function raises an `IndexError` exception. You can catch this exception using a `try` statement and return `None` if the exception is raised.\n",
    "\n",
    "One important thing to do is to always specify the type of exception you want to catch. This prevents you from catching exceptions that you didn't intend to catch. For example, if you catch a `FileNotFoundError` exception when you were expecting a `ValueError` exception, your program might behave unexpectedly. You can catch multiple exceptions by putting them in a tuple. But you should never just `pass` on an exception without handling it, because this can hide bugs in your code.\n",
    "\n",
    "The main point to realize is that sometimes you *want* your code to crash when an exception is raised, because it indicates that something is wrong. But sometimes you want to handle the exception gracefully and prevent your program from crashing. It's up to you to decide when to catch exceptions and when to let them propagate.\n",
    "\n",
    "Below is an example of how to use a `try` statement to catch an exception:"
   ]
  },
  {
   "cell_type": "code",
   "execution_count": 1,
   "metadata": {},
   "outputs": [
    {
     "name": "stdout",
     "output_type": "stream",
     "text": [
      "You did not define a class 'Dog'!\n"
     ]
    },
    {
     "ename": "AssertionError",
     "evalue": "",
     "output_type": "error",
     "traceback": [
      "\u001b[0;31m---------------------------------------------------------------------------\u001b[0m",
      "\u001b[0;31mAssertionError\u001b[0m                            Traceback (most recent call last)",
      "Cell \u001b[0;32mIn[1], line 5\u001b[0m\n\u001b[1;32m      3\u001b[0m \u001b[38;5;28;01mexcept\u001b[39;00m \u001b[38;5;167;01mAssertionError\u001b[39;00m \u001b[38;5;28;01mas\u001b[39;00m e:\n\u001b[1;32m      4\u001b[0m     \u001b[38;5;28mprint\u001b[39m(\u001b[38;5;124m\"\u001b[39m\u001b[38;5;124mYou did not define a class \u001b[39m\u001b[38;5;124m'\u001b[39m\u001b[38;5;124mDog\u001b[39m\u001b[38;5;124m'\u001b[39m\u001b[38;5;124m!\u001b[39m\u001b[38;5;124m\"\u001b[39m)\n\u001b[0;32m----> 5\u001b[0m     \u001b[38;5;28;01mraise\u001b[39;00m(e)\n",
      "Cell \u001b[0;32mIn[1], line 2\u001b[0m\n\u001b[1;32m      1\u001b[0m \u001b[38;5;28;01mtry\u001b[39;00m:\n\u001b[0;32m----> 2\u001b[0m     \u001b[38;5;28;01massert\u001b[39;00m(\u001b[38;5;124m'\u001b[39m\u001b[38;5;124mDog\u001b[39m\u001b[38;5;124m'\u001b[39m \u001b[38;5;129;01min\u001b[39;00m \u001b[38;5;28mdir\u001b[39m())\n\u001b[1;32m      3\u001b[0m \u001b[38;5;28;01mexcept\u001b[39;00m \u001b[38;5;167;01mAssertionError\u001b[39;00m \u001b[38;5;28;01mas\u001b[39;00m e:\n\u001b[1;32m      4\u001b[0m     \u001b[38;5;28mprint\u001b[39m(\u001b[38;5;124m\"\u001b[39m\u001b[38;5;124mYou did not define a class \u001b[39m\u001b[38;5;124m'\u001b[39m\u001b[38;5;124mDog\u001b[39m\u001b[38;5;124m'\u001b[39m\u001b[38;5;124m!\u001b[39m\u001b[38;5;124m\"\u001b[39m)\n",
      "\u001b[0;31mAssertionError\u001b[0m: "
     ]
    }
   ],
   "source": [
    "try:\n",
    "    assert('Dog' in dir())\n",
    "except AssertionError as e:\n",
    "    print(\"You did not define a class 'Dog'!\")\n",
    "    raise(e)"
   ]
  },
  {
   "cell_type": "markdown",
   "metadata": {},
   "source": [
    "# Take-aways\n",
    "\n",
    "In this tutorial, we've covered the basics of Python, including data types (integers, floats, lists, dictionaries, strings, tuples), functions, methods, conditionals (if-elif-else), and loops (for-loops, list comprehensions).\n",
    "\n",
    "We're skipping more advanced Python concepts, such as classes, imports, and error handling, but as you become more proficient, you'll definitely encounter these concepts.\n",
    "\n",
    "G\n"
   ]
  }
 ],
 "metadata": {
  "kernelspec": {
   "display_name": "neuro",
   "language": "python",
   "name": "python3"
  },
  "language_info": {
   "codemirror_mode": {
    "name": "ipython",
    "version": 3
   },
   "file_extension": ".py",
   "mimetype": "text/x-python",
   "name": "python",
   "nbconvert_exporter": "python",
   "pygments_lexer": "ipython3",
   "version": "3.11.6"
  }
 },
 "nbformat": 4,
 "nbformat_minor": 2
}
